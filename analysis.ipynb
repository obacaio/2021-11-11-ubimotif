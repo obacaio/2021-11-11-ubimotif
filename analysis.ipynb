{
 "cells": [
  {
   "cell_type": "markdown",
   "id": "cc60b8c3-3ce4-4c5f-9dfd-64b10392f789",
   "metadata": {},
   "source": [
    "# Analysis\n",
    "This is my analysis."
   ]
  },
  {
   "cell_type": "code",
   "execution_count": 3,
   "id": "61e11552-c6bc-43e4-9ec1-b5ea8d3351ec",
   "metadata": {},
   "outputs": [
    {
     "data": {
      "text/plain": [
       "8"
      ]
     },
     "execution_count": 3,
     "metadata": {},
     "output_type": "execute_result"
    }
   ],
   "source": [
    "3 + 5"
   ]
  },
  {
   "cell_type": "code",
   "execution_count": 2,
   "id": "73e81c70-8e4a-4e36-bcda-9d422c733aeb",
   "metadata": {},
   "outputs": [],
   "source": [
    "weight_kg = 60"
   ]
  },
  {
   "cell_type": "code",
   "execution_count": 5,
   "id": "6d902543-5d3d-4ed1-9bee-2274796c1526",
   "metadata": {},
   "outputs": [
    {
     "data": {
      "text/plain": [
       "60"
      ]
     },
     "execution_count": 5,
     "metadata": {},
     "output_type": "execute_result"
    }
   ],
   "source": [
    "weight_kg"
   ]
  },
  {
   "cell_type": "code",
   "execution_count": 6,
   "id": "3d9e5161-6e92-4b42-bbaa-245cbf2d5546",
   "metadata": {},
   "outputs": [
    {
     "name": "stdout",
     "output_type": "stream",
     "text": [
      "60\n"
     ]
    }
   ],
   "source": [
    "print(weight_kg)"
   ]
  },
  {
   "cell_type": "code",
   "execution_count": 8,
   "id": "643fe661-32cc-4d69-82a2-9bc0c8af86c0",
   "metadata": {},
   "outputs": [],
   "source": [
    "weight_kg_2 = 60.0"
   ]
  },
  {
   "cell_type": "code",
   "execution_count": 13,
   "id": "13027182-d4a3-4d1b-b960-70a9c1a8f57f",
   "metadata": {},
   "outputs": [
    {
     "name": "stdout",
     "output_type": "stream",
     "text": [
      "60.0\n"
     ]
    }
   ],
   "source": [
    "print(weight_kg_2)"
   ]
  },
  {
   "cell_type": "code",
   "execution_count": 14,
   "id": "02555a77-81f8-49cb-b2ba-7a869bdd5ed6",
   "metadata": {},
   "outputs": [
    {
     "name": "stdout",
     "output_type": "stream",
     "text": [
      "120\n"
     ]
    }
   ],
   "source": [
    "print(weight_kg*2)"
   ]
  },
  {
   "cell_type": "code",
   "execution_count": 15,
   "id": "0969bd4c-9bbd-4dfa-8d4f-476e187c24b8",
   "metadata": {},
   "outputs": [],
   "source": [
    "weight_txt = 'My weight is 90 kg'"
   ]
  },
  {
   "cell_type": "code",
   "execution_count": 18,
   "id": "3e61802d-2b6d-46f4-b343-d24db65bf345",
   "metadata": {},
   "outputs": [
    {
     "name": "stdout",
     "output_type": "stream",
     "text": [
      "My weight is 90 kg\n"
     ]
    }
   ],
   "source": [
    "print(weight_txt)"
   ]
  },
  {
   "cell_type": "code",
   "execution_count": 19,
   "id": "5bd3a1e5-0b0b-48ce-af72-2c39d4bdcca3",
   "metadata": {},
   "outputs": [],
   "source": [
    "banana = 'Currently,'"
   ]
  },
  {
   "cell_type": "code",
   "execution_count": 20,
   "id": "783d2f1b-0632-454b-9820-42f4ba0d5ce2",
   "metadata": {},
   "outputs": [
    {
     "data": {
      "text/plain": [
       "'Currently,My weight is 90 kg'"
      ]
     },
     "execution_count": 20,
     "metadata": {},
     "output_type": "execute_result"
    }
   ],
   "source": [
    "banana + weight_txt"
   ]
  },
  {
   "cell_type": "code",
   "execution_count": 22,
   "id": "8e8a79e7-553d-4ec0-96ec-15d3cb0b5863",
   "metadata": {},
   "outputs": [
    {
     "name": "stdout",
     "output_type": "stream",
     "text": [
      "C\n"
     ]
    }
   ],
   "source": [
    "print(banana[0])"
   ]
  },
  {
   "cell_type": "code",
   "execution_count": 23,
   "id": "f083ee78-2a63-4ed3-920e-8f6bda7fded4",
   "metadata": {},
   "outputs": [
    {
     "name": "stdout",
     "output_type": "stream",
     "text": [
      "ur\n"
     ]
    }
   ],
   "source": [
    "print(banana[1:3])"
   ]
  },
  {
   "cell_type": "code",
   "execution_count": 25,
   "id": "f760c374-3834-4344-a137-0cb616e5518d",
   "metadata": {},
   "outputs": [
    {
     "ename": "NameError",
     "evalue": "name 'y' is not defined",
     "output_type": "error",
     "traceback": [
      "\u001b[1;31m---------------------------------------------------------------------------\u001b[0m",
      "\u001b[1;31mNameError\u001b[0m                                 Traceback (most recent call last)",
      "\u001b[1;32m<ipython-input-25-66350e373147>\u001b[0m in \u001b[0;36m<module>\u001b[1;34m\u001b[0m\n\u001b[0;32m      1\u001b[0m \u001b[0mx\u001b[0m \u001b[1;33m=\u001b[0m \u001b[1;36m1\u001b[0m\u001b[1;33m\u001b[0m\u001b[1;33m\u001b[0m\u001b[0m\n\u001b[1;32m----> 2\u001b[1;33m \u001b[0mprint\u001b[0m \u001b[1;33m(\u001b[0m\u001b[0mx\u001b[0m\u001b[1;33m,\u001b[0m \u001b[0my\u001b[0m\u001b[1;33m,\u001b[0m \u001b[0mswap\u001b[0m\u001b[1;33m)\u001b[0m\u001b[1;33m\u001b[0m\u001b[1;33m\u001b[0m\u001b[0m\n\u001b[0m",
      "\u001b[1;31mNameError\u001b[0m: name 'y' is not defined"
     ]
    }
   ],
   "source": [
    "x = 1\n",
    "print (x, y, swap)"
   ]
  },
  {
   "cell_type": "code",
   "execution_count": 26,
   "id": "0e42c827-a44e-48b9-ab98-ffaa366d1919",
   "metadata": {},
   "outputs": [
    {
     "ename": "NameError",
     "evalue": "name 'swap' is not defined",
     "output_type": "error",
     "traceback": [
      "\u001b[1;31m---------------------------------------------------------------------------\u001b[0m",
      "\u001b[1;31mNameError\u001b[0m                                 Traceback (most recent call last)",
      "\u001b[1;32m<ipython-input-26-9f4634f1f12d>\u001b[0m in \u001b[0;36m<module>\u001b[1;34m\u001b[0m\n\u001b[0;32m      1\u001b[0m \u001b[0my\u001b[0m \u001b[1;33m=\u001b[0m \u001b[1;36m3\u001b[0m\u001b[1;33m\u001b[0m\u001b[1;33m\u001b[0m\u001b[0m\n\u001b[1;32m----> 2\u001b[1;33m \u001b[0mprint\u001b[0m \u001b[1;33m(\u001b[0m\u001b[0mx\u001b[0m\u001b[1;33m,\u001b[0m \u001b[0my\u001b[0m\u001b[1;33m,\u001b[0m \u001b[0mswap\u001b[0m\u001b[1;33m)\u001b[0m\u001b[1;33m\u001b[0m\u001b[1;33m\u001b[0m\u001b[0m\n\u001b[0m",
      "\u001b[1;31mNameError\u001b[0m: name 'swap' is not defined"
     ]
    }
   ],
   "source": [
    "y = 3\n",
    "print (x, y, swap)"
   ]
  },
  {
   "cell_type": "code",
   "execution_count": 27,
   "id": "72ad6168-486a-4832-afa4-6b9ced499e8c",
   "metadata": {},
   "outputs": [
    {
     "name": "stdout",
     "output_type": "stream",
     "text": [
      "1 3 1\n"
     ]
    }
   ],
   "source": [
    "swap = x\n",
    "print(x, y, swap)"
   ]
  },
  {
   "cell_type": "code",
   "execution_count": 28,
   "id": "feade14b-215a-4b19-afbe-7b81d4804d87",
   "metadata": {},
   "outputs": [
    {
     "name": "stdout",
     "output_type": "stream",
     "text": [
      "3 3 1\n"
     ]
    }
   ],
   "source": [
    "x = y\n",
    "print(x, y, swap)"
   ]
  },
  {
   "cell_type": "code",
   "execution_count": 29,
   "id": "3d7de705-8ab0-474f-a5c7-2d2d4e54a62c",
   "metadata": {},
   "outputs": [
    {
     "name": "stdout",
     "output_type": "stream",
     "text": [
      "3 1 1\n"
     ]
    }
   ],
   "source": [
    "y = swap\n",
    "print(x, y, swap)"
   ]
  },
  {
   "cell_type": "code",
   "execution_count": 31,
   "id": "f438aaef-bac8-4428-9727-b623d9fde33e",
   "metadata": {},
   "outputs": [
    {
     "data": {
      "text/plain": [
       "3.81"
      ]
     },
     "execution_count": 31,
     "metadata": {},
     "output_type": "execute_result"
    }
   ],
   "source": [
    "round(3.81397491830128, ndigits = 2)"
   ]
  },
  {
   "cell_type": "code",
   "execution_count": 32,
   "id": "4a7a24b8-ca6a-4d55-b040-c828b02a4989",
   "metadata": {},
   "outputs": [
    {
     "data": {
      "text/plain": [
       "1.318"
      ]
     },
     "execution_count": 32,
     "metadata": {},
     "output_type": "execute_result"
    }
   ],
   "source": [
    "round(1.3182741389371092387, 3)"
   ]
  },
  {
   "cell_type": "code",
   "execution_count": 33,
   "id": "1ae571ad-ee27-4453-92bc-4e8538bb4c55",
   "metadata": {},
   "outputs": [
    {
     "data": {
      "text/plain": [
       "4"
      ]
     },
     "execution_count": 33,
     "metadata": {},
     "output_type": "execute_result"
    }
   ],
   "source": [
    "len('name')"
   ]
  },
  {
   "cell_type": "code",
   "execution_count": 35,
   "id": "68c54b95-fc18-40a0-89fc-63ce9cada5cc",
   "metadata": {},
   "outputs": [
    {
     "name": "stdout",
     "output_type": "stream",
     "text": [
      "4\n"
     ]
    }
   ],
   "source": [
    "name = 'name'\n",
    "print(len(name))"
   ]
  },
  {
   "cell_type": "code",
   "execution_count": 36,
   "id": "c1dd9713-5e22-4a87-a0fe-dc14e8b0c59f",
   "metadata": {},
   "outputs": [
    {
     "ename": "IndexError",
     "evalue": "string index out of range",
     "output_type": "error",
     "traceback": [
      "\u001b[1;31m---------------------------------------------------------------------------\u001b[0m",
      "\u001b[1;31mIndexError\u001b[0m                                Traceback (most recent call last)",
      "\u001b[1;32m<ipython-input-36-29f95d1e52d5>\u001b[0m in \u001b[0;36m<module>\u001b[1;34m\u001b[0m\n\u001b[1;32m----> 1\u001b[1;33m \u001b[0mprint\u001b[0m\u001b[1;33m(\u001b[0m\u001b[0mname\u001b[0m\u001b[1;33m[\u001b[0m\u001b[1;36m4\u001b[0m\u001b[1;33m]\u001b[0m\u001b[1;33m)\u001b[0m\u001b[1;33m\u001b[0m\u001b[1;33m\u001b[0m\u001b[0m\n\u001b[0m",
      "\u001b[1;31mIndexError\u001b[0m: string index out of range"
     ]
    }
   ],
   "source": [
    "print(name[4])"
   ]
  },
  {
   "cell_type": "code",
   "execution_count": 37,
   "id": "4489dc7c-d03d-43f8-a1e3-cf4d1969ba18",
   "metadata": {},
   "outputs": [
    {
     "name": "stdout",
     "output_type": "stream",
     "text": [
      "e\n"
     ]
    }
   ],
   "source": [
    "print(name[len(name)-1])"
   ]
  },
  {
   "cell_type": "code",
   "execution_count": 38,
   "id": "8b066277-6824-4991-b0ec-35ca9d71b9cd",
   "metadata": {},
   "outputs": [
    {
     "name": "stdout",
     "output_type": "stream",
     "text": [
      "a\n"
     ]
    }
   ],
   "source": [
    "print(name[1:2])"
   ]
  },
  {
   "cell_type": "code",
   "execution_count": 39,
   "id": "5ed03e4c-2219-4dd4-815b-a5e8d55eb3c0",
   "metadata": {},
   "outputs": [
    {
     "name": "stdout",
     "output_type": "stream",
     "text": [
      "am\n"
     ]
    }
   ],
   "source": [
    "print(name[1:3])"
   ]
  },
  {
   "cell_type": "code",
   "execution_count": 40,
   "id": "d4eac39a-2e7a-411b-a582-ccb3e03993c9",
   "metadata": {},
   "outputs": [
    {
     "name": "stdout",
     "output_type": "stream",
     "text": [
      "nam\n"
     ]
    }
   ],
   "source": [
    "print(name[:3])"
   ]
  },
  {
   "cell_type": "code",
   "execution_count": 41,
   "id": "fc5c4a94-2c8a-4074-ae77-de40828075ef",
   "metadata": {},
   "outputs": [
    {
     "name": "stdout",
     "output_type": "stream",
     "text": [
      "name\n"
     ]
    }
   ],
   "source": [
    "print(name[0:])"
   ]
  },
  {
   "cell_type": "code",
   "execution_count": 42,
   "id": "98a479ba-368b-45c6-8fdf-61aaa338d380",
   "metadata": {},
   "outputs": [
    {
     "name": "stdout",
     "output_type": "stream",
     "text": [
      "a m\n"
     ]
    }
   ],
   "source": [
    "print(name[1], name[2])"
   ]
  },
  {
   "cell_type": "code",
   "execution_count": 43,
   "id": "010fac46-9e7a-4042-891f-938af3f259b8",
   "metadata": {},
   "outputs": [
    {
     "name": "stdout",
     "output_type": "stream",
     "text": [
      "am\n"
     ]
    }
   ],
   "source": [
    "print(name[1]+name[2])"
   ]
  },
  {
   "cell_type": "raw",
   "id": "5404609b-fdd1-44c7-ae05-9bb2414353ed",
   "metadata": {},
   "source": [
    "import math"
   ]
  },
  {
   "cell_type": "code",
   "execution_count": 45,
   "id": "b5599025-1616-4ce4-b454-191bb07d7634",
   "metadata": {},
   "outputs": [
    {
     "name": "stdout",
     "output_type": "stream",
     "text": [
      "3.141592653589793\n"
     ]
    }
   ],
   "source": [
    "print(math.pi)"
   ]
  },
  {
   "cell_type": "code",
   "execution_count": 46,
   "id": "9dc3b146-0ff3-4549-b0bb-bbd9151832fc",
   "metadata": {},
   "outputs": [
    {
     "name": "stdout",
     "output_type": "stream",
     "text": [
      "3 4\n"
     ]
    }
   ],
   "source": [
    "print(round(math.pi), 4)"
   ]
  },
  {
   "cell_type": "code",
   "execution_count": 47,
   "id": "2e955d30-bc4a-49d4-b122-3e609b74a7e6",
   "metadata": {},
   "outputs": [
    {
     "name": "stdout",
     "output_type": "stream",
     "text": [
      "3.14\n"
     ]
    }
   ],
   "source": [
    "print(round(math.pi, 2))"
   ]
  },
  {
   "cell_type": "code",
   "execution_count": 48,
   "id": "2f8f62ee-3d16-4f8e-a88a-035f489c6111",
   "metadata": {},
   "outputs": [
    {
     "data": {
      "text/plain": [
       "-1.0"
      ]
     },
     "execution_count": 48,
     "metadata": {},
     "output_type": "execute_result"
    }
   ],
   "source": [
    "math.cos(math.pi)"
   ]
  },
  {
   "cell_type": "code",
   "execution_count": 49,
   "id": "63a8ab78-5d0b-4e29-bad0-7faf9acbfa02",
   "metadata": {},
   "outputs": [
    {
     "ename": "NameError",
     "evalue": "name 'cos' is not defined",
     "output_type": "error",
     "traceback": [
      "\u001b[1;31m---------------------------------------------------------------------------\u001b[0m",
      "\u001b[1;31mNameError\u001b[0m                                 Traceback (most recent call last)",
      "\u001b[1;32m<ipython-input-49-b61f38904a17>\u001b[0m in \u001b[0;36m<module>\u001b[1;34m\u001b[0m\n\u001b[1;32m----> 1\u001b[1;33m \u001b[0mcos\u001b[0m\u001b[1;33m(\u001b[0m\u001b[1;36m3\u001b[0m\u001b[1;33m,\u001b[0m \u001b[1;36m180\u001b[0m\u001b[1;33m)\u001b[0m\u001b[1;33m\u001b[0m\u001b[1;33m\u001b[0m\u001b[0m\n\u001b[0m",
      "\u001b[1;31mNameError\u001b[0m: name 'cos' is not defined"
     ]
    }
   ],
   "source": [
    "cos(3, 180)"
   ]
  },
  {
   "cell_type": "code",
   "execution_count": 50,
   "id": "86fc3cf1-00fd-457a-8e30-ec11861b8bb7",
   "metadata": {},
   "outputs": [
    {
     "ename": "TypeError",
     "evalue": "cos() takes exactly one argument (2 given)",
     "output_type": "error",
     "traceback": [
      "\u001b[1;31m---------------------------------------------------------------------------\u001b[0m",
      "\u001b[1;31mTypeError\u001b[0m                                 Traceback (most recent call last)",
      "\u001b[1;32m<ipython-input-50-78fdb1d127a5>\u001b[0m in \u001b[0;36m<module>\u001b[1;34m\u001b[0m\n\u001b[1;32m----> 1\u001b[1;33m \u001b[0mmath\u001b[0m\u001b[1;33m.\u001b[0m\u001b[0mcos\u001b[0m\u001b[1;33m(\u001b[0m\u001b[1;36m3\u001b[0m\u001b[1;33m,\u001b[0m \u001b[1;36m180\u001b[0m\u001b[1;33m)\u001b[0m\u001b[1;33m\u001b[0m\u001b[1;33m\u001b[0m\u001b[0m\n\u001b[0m",
      "\u001b[1;31mTypeError\u001b[0m: cos() takes exactly one argument (2 given)"
     ]
    }
   ],
   "source": [
    "math.cos(3, 180)"
   ]
  },
  {
   "cell_type": "code",
   "execution_count": 51,
   "id": "4d29558f-60d1-4b50-b11d-83fcd8e87c7c",
   "metadata": {},
   "outputs": [
    {
     "name": "stdout",
     "output_type": "stream",
     "text": [
      "-0.9899924966004454\n",
      "-0.5984600690578581\n"
     ]
    }
   ],
   "source": [
    "print(math.cos(3))\n",
    "print(math.cos(180))"
   ]
  },
  {
   "cell_type": "code",
   "execution_count": 54,
   "id": "cb5d3a84-17d6-49b2-b148-436bddfa15d1",
   "metadata": {},
   "outputs": [
    {
     "data": {
      "text/plain": [
       "3.141592653589793"
      ]
     },
     "execution_count": 54,
     "metadata": {},
     "output_type": "execute_result"
    }
   ],
   "source": [
    "math.pi"
   ]
  },
  {
   "cell_type": "code",
   "execution_count": 55,
   "id": "eb44b208-5dd2-4910-a4b9-b72876ed8986",
   "metadata": {},
   "outputs": [
    {
     "name": "stdout",
     "output_type": "stream",
     "text": [
      "Help on built-in module math:\n",
      "\n",
      "NAME\n",
      "    math\n",
      "\n",
      "DESCRIPTION\n",
      "    This module provides access to the mathematical functions\n",
      "    defined by the C standard.\n",
      "\n",
      "FUNCTIONS\n",
      "    acos(x, /)\n",
      "        Return the arc cosine (measured in radians) of x.\n",
      "    \n",
      "    acosh(x, /)\n",
      "        Return the inverse hyperbolic cosine of x.\n",
      "    \n",
      "    asin(x, /)\n",
      "        Return the arc sine (measured in radians) of x.\n",
      "    \n",
      "    asinh(x, /)\n",
      "        Return the inverse hyperbolic sine of x.\n",
      "    \n",
      "    atan(x, /)\n",
      "        Return the arc tangent (measured in radians) of x.\n",
      "    \n",
      "    atan2(y, x, /)\n",
      "        Return the arc tangent (measured in radians) of y/x.\n",
      "        \n",
      "        Unlike atan(y/x), the signs of both x and y are considered.\n",
      "    \n",
      "    atanh(x, /)\n",
      "        Return the inverse hyperbolic tangent of x.\n",
      "    \n",
      "    ceil(x, /)\n",
      "        Return the ceiling of x as an Integral.\n",
      "        \n",
      "        This is the smallest integer >= x.\n",
      "    \n",
      "    comb(n, k, /)\n",
      "        Number of ways to choose k items from n items without repetition and without order.\n",
      "        \n",
      "        Evaluates to n! / (k! * (n - k)!) when k <= n and evaluates\n",
      "        to zero when k > n.\n",
      "        \n",
      "        Also called the binomial coefficient because it is equivalent\n",
      "        to the coefficient of k-th term in polynomial expansion of the\n",
      "        expression (1 + x)**n.\n",
      "        \n",
      "        Raises TypeError if either of the arguments are not integers.\n",
      "        Raises ValueError if either of the arguments are negative.\n",
      "    \n",
      "    copysign(x, y, /)\n",
      "        Return a float with the magnitude (absolute value) of x but the sign of y.\n",
      "        \n",
      "        On platforms that support signed zeros, copysign(1.0, -0.0)\n",
      "        returns -1.0.\n",
      "    \n",
      "    cos(x, /)\n",
      "        Return the cosine of x (measured in radians).\n",
      "    \n",
      "    cosh(x, /)\n",
      "        Return the hyperbolic cosine of x.\n",
      "    \n",
      "    degrees(x, /)\n",
      "        Convert angle x from radians to degrees.\n",
      "    \n",
      "    dist(p, q, /)\n",
      "        Return the Euclidean distance between two points p and q.\n",
      "        \n",
      "        The points should be specified as sequences (or iterables) of\n",
      "        coordinates.  Both inputs must have the same dimension.\n",
      "        \n",
      "        Roughly equivalent to:\n",
      "            sqrt(sum((px - qx) ** 2.0 for px, qx in zip(p, q)))\n",
      "    \n",
      "    erf(x, /)\n",
      "        Error function at x.\n",
      "    \n",
      "    erfc(x, /)\n",
      "        Complementary error function at x.\n",
      "    \n",
      "    exp(x, /)\n",
      "        Return e raised to the power of x.\n",
      "    \n",
      "    expm1(x, /)\n",
      "        Return exp(x)-1.\n",
      "        \n",
      "        This function avoids the loss of precision involved in the direct evaluation of exp(x)-1 for small x.\n",
      "    \n",
      "    fabs(x, /)\n",
      "        Return the absolute value of the float x.\n",
      "    \n",
      "    factorial(x, /)\n",
      "        Find x!.\n",
      "        \n",
      "        Raise a ValueError if x is negative or non-integral.\n",
      "    \n",
      "    floor(x, /)\n",
      "        Return the floor of x as an Integral.\n",
      "        \n",
      "        This is the largest integer <= x.\n",
      "    \n",
      "    fmod(x, y, /)\n",
      "        Return fmod(x, y), according to platform C.\n",
      "        \n",
      "        x % y may differ.\n",
      "    \n",
      "    frexp(x, /)\n",
      "        Return the mantissa and exponent of x, as pair (m, e).\n",
      "        \n",
      "        m is a float and e is an int, such that x = m * 2.**e.\n",
      "        If x is 0, m and e are both 0.  Else 0.5 <= abs(m) < 1.0.\n",
      "    \n",
      "    fsum(seq, /)\n",
      "        Return an accurate floating point sum of values in the iterable seq.\n",
      "        \n",
      "        Assumes IEEE-754 floating point arithmetic.\n",
      "    \n",
      "    gamma(x, /)\n",
      "        Gamma function at x.\n",
      "    \n",
      "    gcd(x, y, /)\n",
      "        greatest common divisor of x and y\n",
      "    \n",
      "    hypot(...)\n",
      "        hypot(*coordinates) -> value\n",
      "        \n",
      "        Multidimensional Euclidean distance from the origin to a point.\n",
      "        \n",
      "        Roughly equivalent to:\n",
      "            sqrt(sum(x**2 for x in coordinates))\n",
      "        \n",
      "        For a two dimensional point (x, y), gives the hypotenuse\n",
      "        using the Pythagorean theorem:  sqrt(x*x + y*y).\n",
      "        \n",
      "        For example, the hypotenuse of a 3/4/5 right triangle is:\n",
      "        \n",
      "            >>> hypot(3.0, 4.0)\n",
      "            5.0\n",
      "    \n",
      "    isclose(a, b, *, rel_tol=1e-09, abs_tol=0.0)\n",
      "        Determine whether two floating point numbers are close in value.\n",
      "        \n",
      "          rel_tol\n",
      "            maximum difference for being considered \"close\", relative to the\n",
      "            magnitude of the input values\n",
      "          abs_tol\n",
      "            maximum difference for being considered \"close\", regardless of the\n",
      "            magnitude of the input values\n",
      "        \n",
      "        Return True if a is close in value to b, and False otherwise.\n",
      "        \n",
      "        For the values to be considered close, the difference between them\n",
      "        must be smaller than at least one of the tolerances.\n",
      "        \n",
      "        -inf, inf and NaN behave similarly to the IEEE 754 Standard.  That\n",
      "        is, NaN is not close to anything, even itself.  inf and -inf are\n",
      "        only close to themselves.\n",
      "    \n",
      "    isfinite(x, /)\n",
      "        Return True if x is neither an infinity nor a NaN, and False otherwise.\n",
      "    \n",
      "    isinf(x, /)\n",
      "        Return True if x is a positive or negative infinity, and False otherwise.\n",
      "    \n",
      "    isnan(x, /)\n",
      "        Return True if x is a NaN (not a number), and False otherwise.\n",
      "    \n",
      "    isqrt(n, /)\n",
      "        Return the integer part of the square root of the input.\n",
      "    \n",
      "    ldexp(x, i, /)\n",
      "        Return x * (2**i).\n",
      "        \n",
      "        This is essentially the inverse of frexp().\n",
      "    \n",
      "    lgamma(x, /)\n",
      "        Natural logarithm of absolute value of Gamma function at x.\n",
      "    \n",
      "    log(...)\n",
      "        log(x, [base=math.e])\n",
      "        Return the logarithm of x to the given base.\n",
      "        \n",
      "        If the base not specified, returns the natural logarithm (base e) of x.\n",
      "    \n",
      "    log10(x, /)\n",
      "        Return the base 10 logarithm of x.\n",
      "    \n",
      "    log1p(x, /)\n",
      "        Return the natural logarithm of 1+x (base e).\n",
      "        \n",
      "        The result is computed in a way which is accurate for x near zero.\n",
      "    \n",
      "    log2(x, /)\n",
      "        Return the base 2 logarithm of x.\n",
      "    \n",
      "    modf(x, /)\n",
      "        Return the fractional and integer parts of x.\n",
      "        \n",
      "        Both results carry the sign of x and are floats.\n",
      "    \n",
      "    perm(n, k=None, /)\n",
      "        Number of ways to choose k items from n items without repetition and with order.\n",
      "        \n",
      "        Evaluates to n! / (n - k)! when k <= n and evaluates\n",
      "        to zero when k > n.\n",
      "        \n",
      "        If k is not specified or is None, then k defaults to n\n",
      "        and the function returns n!.\n",
      "        \n",
      "        Raises TypeError if either of the arguments are not integers.\n",
      "        Raises ValueError if either of the arguments are negative.\n",
      "    \n",
      "    pow(x, y, /)\n",
      "        Return x**y (x to the power of y).\n",
      "    \n",
      "    prod(iterable, /, *, start=1)\n",
      "        Calculate the product of all the elements in the input iterable.\n",
      "        \n",
      "        The default start value for the product is 1.\n",
      "        \n",
      "        When the iterable is empty, return the start value.  This function is\n",
      "        intended specifically for use with numeric values and may reject\n",
      "        non-numeric types.\n",
      "    \n",
      "    radians(x, /)\n",
      "        Convert angle x from degrees to radians.\n",
      "    \n",
      "    remainder(x, y, /)\n",
      "        Difference between x and the closest integer multiple of y.\n",
      "        \n",
      "        Return x - n*y where n*y is the closest integer multiple of y.\n",
      "        In the case where x is exactly halfway between two multiples of\n",
      "        y, the nearest even value of n is used. The result is always exact.\n",
      "    \n",
      "    sin(x, /)\n",
      "        Return the sine of x (measured in radians).\n",
      "    \n",
      "    sinh(x, /)\n",
      "        Return the hyperbolic sine of x.\n",
      "    \n",
      "    sqrt(x, /)\n",
      "        Return the square root of x.\n",
      "    \n",
      "    tan(x, /)\n",
      "        Return the tangent of x (measured in radians).\n",
      "    \n",
      "    tanh(x, /)\n",
      "        Return the hyperbolic tangent of x.\n",
      "    \n",
      "    trunc(x, /)\n",
      "        Truncates the Real x to the nearest Integral toward 0.\n",
      "        \n",
      "        Uses the __trunc__ magic method.\n",
      "\n",
      "DATA\n",
      "    e = 2.718281828459045\n",
      "    inf = inf\n",
      "    nan = nan\n",
      "    pi = 3.141592653589793\n",
      "    tau = 6.283185307179586\n",
      "\n",
      "FILE\n",
      "    (built-in)\n",
      "\n",
      "\n"
     ]
    }
   ],
   "source": [
    "help(math)"
   ]
  },
  {
   "cell_type": "code",
   "execution_count": 56,
   "id": "45b9737c-bd34-4ec1-a528-b0977e5dad8b",
   "metadata": {},
   "outputs": [
    {
     "data": {
      "text/plain": [
       "1.4142135623730951"
      ]
     },
     "execution_count": 56,
     "metadata": {},
     "output_type": "execute_result"
    }
   ],
   "source": [
    "math.pow(2, 0.5)"
   ]
  },
  {
   "cell_type": "code",
   "execution_count": 57,
   "id": "8ed2a214-206f-4710-a502-0e534ffe45af",
   "metadata": {},
   "outputs": [
    {
     "data": {
      "text/plain": [
       "1.4142135623730951"
      ]
     },
     "execution_count": 57,
     "metadata": {},
     "output_type": "execute_result"
    }
   ],
   "source": [
    "pow(2, 0.5)"
   ]
  },
  {
   "cell_type": "code",
   "execution_count": 58,
   "id": "d6889307-bc48-4908-88d4-294e9fb33ce6",
   "metadata": {},
   "outputs": [],
   "source": [
    "bases = 'ACTTGCTTGAC'"
   ]
  },
  {
   "cell_type": "code",
   "execution_count": 59,
   "id": "b619e2ae-5aa3-411b-b62d-0403bace7269",
   "metadata": {},
   "outputs": [
    {
     "data": {
      "text/plain": [
       "'C'"
      ]
     },
     "execution_count": 59,
     "metadata": {},
     "output_type": "execute_result"
    }
   ],
   "source": [
    "bases[5]"
   ]
  },
  {
   "cell_type": "code",
   "execution_count": 60,
   "id": "b65a680d-45eb-4fc9-8c3f-375c850b62fa",
   "metadata": {},
   "outputs": [],
   "source": [
    "import random"
   ]
  },
  {
   "cell_type": "code",
   "execution_count": 61,
   "id": "4d5be1b8-4ef6-4369-ac7e-71b62aa74ee6",
   "metadata": {},
   "outputs": [
    {
     "name": "stdout",
     "output_type": "stream",
     "text": [
      "Help on module random:\n",
      "\n",
      "NAME\n",
      "    random - Random variable generators.\n",
      "\n",
      "MODULE REFERENCE\n",
      "    https://docs.python.org/3.8/library/random\n",
      "    \n",
      "    The following documentation is automatically generated from the Python\n",
      "    source files.  It may be incomplete, incorrect or include features that\n",
      "    are considered implementation detail and may vary between Python\n",
      "    implementations.  When in doubt, consult the module reference at the\n",
      "    location listed above.\n",
      "\n",
      "DESCRIPTION\n",
      "        integers\n",
      "        --------\n",
      "               uniform within range\n",
      "    \n",
      "        sequences\n",
      "        ---------\n",
      "               pick random element\n",
      "               pick random sample\n",
      "               pick weighted random sample\n",
      "               generate random permutation\n",
      "    \n",
      "        distributions on the real line:\n",
      "        ------------------------------\n",
      "               uniform\n",
      "               triangular\n",
      "               normal (Gaussian)\n",
      "               lognormal\n",
      "               negative exponential\n",
      "               gamma\n",
      "               beta\n",
      "               pareto\n",
      "               Weibull\n",
      "    \n",
      "        distributions on the circle (angles 0 to 2pi)\n",
      "        ---------------------------------------------\n",
      "               circular uniform\n",
      "               von Mises\n",
      "    \n",
      "    General notes on the underlying Mersenne Twister core generator:\n",
      "    \n",
      "    * The period is 2**19937-1.\n",
      "    * It is one of the most extensively tested generators in existence.\n",
      "    * The random() method is implemented in C, executes in a single Python step,\n",
      "      and is, therefore, threadsafe.\n",
      "\n",
      "CLASSES\n",
      "    _random.Random(builtins.object)\n",
      "        Random\n",
      "            SystemRandom\n",
      "    \n",
      "    class Random(_random.Random)\n",
      "     |  Random(x=None)\n",
      "     |  \n",
      "     |  Random number generator base class used by bound module functions.\n",
      "     |  \n",
      "     |  Used to instantiate instances of Random to get generators that don't\n",
      "     |  share state.\n",
      "     |  \n",
      "     |  Class Random can also be subclassed if you want to use a different basic\n",
      "     |  generator of your own devising: in that case, override the following\n",
      "     |  methods:  random(), seed(), getstate(), and setstate().\n",
      "     |  Optionally, implement a getrandbits() method so that randrange()\n",
      "     |  can cover arbitrarily large ranges.\n",
      "     |  \n",
      "     |  Method resolution order:\n",
      "     |      Random\n",
      "     |      _random.Random\n",
      "     |      builtins.object\n",
      "     |  \n",
      "     |  Methods defined here:\n",
      "     |  \n",
      "     |  __getstate__(self)\n",
      "     |      # Issue 17489: Since __reduce__ was defined to fix #759889 this is no\n",
      "     |      # longer called; we leave it here because it has been here since random was\n",
      "     |      # rewritten back in 2001 and why risk breaking something.\n",
      "     |  \n",
      "     |  __init__(self, x=None)\n",
      "     |      Initialize an instance.\n",
      "     |      \n",
      "     |      Optional argument x controls seeding, as for Random.seed().\n",
      "     |  \n",
      "     |  __reduce__(self)\n",
      "     |      Helper for pickle.\n",
      "     |  \n",
      "     |  __setstate__(self, state)\n",
      "     |  \n",
      "     |  betavariate(self, alpha, beta)\n",
      "     |      Beta distribution.\n",
      "     |      \n",
      "     |      Conditions on the parameters are alpha > 0 and beta > 0.\n",
      "     |      Returned values range between 0 and 1.\n",
      "     |  \n",
      "     |  choice(self, seq)\n",
      "     |      Choose a random element from a non-empty sequence.\n",
      "     |  \n",
      "     |  choices(self, population, weights=None, *, cum_weights=None, k=1)\n",
      "     |      Return a k sized list of population elements chosen with replacement.\n",
      "     |      \n",
      "     |      If the relative weights or cumulative weights are not specified,\n",
      "     |      the selections are made with equal probability.\n",
      "     |  \n",
      "     |  expovariate(self, lambd)\n",
      "     |      Exponential distribution.\n",
      "     |      \n",
      "     |      lambd is 1.0 divided by the desired mean.  It should be\n",
      "     |      nonzero.  (The parameter would be called \"lambda\", but that is\n",
      "     |      a reserved word in Python.)  Returned values range from 0 to\n",
      "     |      positive infinity if lambd is positive, and from negative\n",
      "     |      infinity to 0 if lambd is negative.\n",
      "     |  \n",
      "     |  gammavariate(self, alpha, beta)\n",
      "     |      Gamma distribution.  Not the gamma function!\n",
      "     |      \n",
      "     |      Conditions on the parameters are alpha > 0 and beta > 0.\n",
      "     |      \n",
      "     |      The probability distribution function is:\n",
      "     |      \n",
      "     |                  x ** (alpha - 1) * math.exp(-x / beta)\n",
      "     |        pdf(x) =  --------------------------------------\n",
      "     |                    math.gamma(alpha) * beta ** alpha\n",
      "     |  \n",
      "     |  gauss(self, mu, sigma)\n",
      "     |      Gaussian distribution.\n",
      "     |      \n",
      "     |      mu is the mean, and sigma is the standard deviation.  This is\n",
      "     |      slightly faster than the normalvariate() function.\n",
      "     |      \n",
      "     |      Not thread-safe without a lock around calls.\n",
      "     |  \n",
      "     |  getstate(self)\n",
      "     |      Return internal state; can be passed to setstate() later.\n",
      "     |  \n",
      "     |  lognormvariate(self, mu, sigma)\n",
      "     |      Log normal distribution.\n",
      "     |      \n",
      "     |      If you take the natural logarithm of this distribution, you'll get a\n",
      "     |      normal distribution with mean mu and standard deviation sigma.\n",
      "     |      mu can have any value, and sigma must be greater than zero.\n",
      "     |  \n",
      "     |  normalvariate(self, mu, sigma)\n",
      "     |      Normal distribution.\n",
      "     |      \n",
      "     |      mu is the mean, and sigma is the standard deviation.\n",
      "     |  \n",
      "     |  paretovariate(self, alpha)\n",
      "     |      Pareto distribution.  alpha is the shape parameter.\n",
      "     |  \n",
      "     |  randint(self, a, b)\n",
      "     |      Return random integer in range [a, b], including both end points.\n",
      "     |  \n",
      "     |  randrange(self, start, stop=None, step=1, _int=<class 'int'>)\n",
      "     |      Choose a random item from range(start, stop[, step]).\n",
      "     |      \n",
      "     |      This fixes the problem with randint() which includes the\n",
      "     |      endpoint; in Python this is usually not what you want.\n",
      "     |  \n",
      "     |  sample(self, population, k)\n",
      "     |      Chooses k unique random elements from a population sequence or set.\n",
      "     |      \n",
      "     |      Returns a new list containing elements from the population while\n",
      "     |      leaving the original population unchanged.  The resulting list is\n",
      "     |      in selection order so that all sub-slices will also be valid random\n",
      "     |      samples.  This allows raffle winners (the sample) to be partitioned\n",
      "     |      into grand prize and second place winners (the subslices).\n",
      "     |      \n",
      "     |      Members of the population need not be hashable or unique.  If the\n",
      "     |      population contains repeats, then each occurrence is a possible\n",
      "     |      selection in the sample.\n",
      "     |      \n",
      "     |      To choose a sample in a range of integers, use range as an argument.\n",
      "     |      This is especially fast and space efficient for sampling from a\n",
      "     |      large population:   sample(range(10000000), 60)\n",
      "     |  \n",
      "     |  seed(self, a=None, version=2)\n",
      "     |      Initialize internal state from hashable object.\n",
      "     |      \n",
      "     |      None or no argument seeds from current time or from an operating\n",
      "     |      system specific randomness source if available.\n",
      "     |      \n",
      "     |      If *a* is an int, all bits are used.\n",
      "     |      \n",
      "     |      For version 2 (the default), all of the bits are used if *a* is a str,\n",
      "     |      bytes, or bytearray.  For version 1 (provided for reproducing random\n",
      "     |      sequences from older versions of Python), the algorithm for str and\n",
      "     |      bytes generates a narrower range of seeds.\n",
      "     |  \n",
      "     |  setstate(self, state)\n",
      "     |      Restore internal state from object returned by getstate().\n",
      "     |  \n",
      "     |  shuffle(self, x, random=None)\n",
      "     |      Shuffle list x in place, and return None.\n",
      "     |      \n",
      "     |      Optional argument random is a 0-argument function returning a\n",
      "     |      random float in [0.0, 1.0); if it is the default None, the\n",
      "     |      standard random.random will be used.\n",
      "     |  \n",
      "     |  triangular(self, low=0.0, high=1.0, mode=None)\n",
      "     |      Triangular distribution.\n",
      "     |      \n",
      "     |      Continuous distribution bounded by given lower and upper limits,\n",
      "     |      and having a given mode value in-between.\n",
      "     |      \n",
      "     |      http://en.wikipedia.org/wiki/Triangular_distribution\n",
      "     |  \n",
      "     |  uniform(self, a, b)\n",
      "     |      Get a random number in the range [a, b) or [a, b] depending on rounding.\n",
      "     |  \n",
      "     |  vonmisesvariate(self, mu, kappa)\n",
      "     |      Circular data distribution.\n",
      "     |      \n",
      "     |      mu is the mean angle, expressed in radians between 0 and 2*pi, and\n",
      "     |      kappa is the concentration parameter, which must be greater than or\n",
      "     |      equal to zero.  If kappa is equal to zero, this distribution reduces\n",
      "     |      to a uniform random angle over the range 0 to 2*pi.\n",
      "     |  \n",
      "     |  weibullvariate(self, alpha, beta)\n",
      "     |      Weibull distribution.\n",
      "     |      \n",
      "     |      alpha is the scale parameter and beta is the shape parameter.\n",
      "     |  \n",
      "     |  ----------------------------------------------------------------------\n",
      "     |  Class methods defined here:\n",
      "     |  \n",
      "     |  __init_subclass__(**kwargs) from builtins.type\n",
      "     |      Control how subclasses generate random integers.\n",
      "     |      \n",
      "     |      The algorithm a subclass can use depends on the random() and/or\n",
      "     |      getrandbits() implementation available to it and determines\n",
      "     |      whether it can generate random integers from arbitrarily large\n",
      "     |      ranges.\n",
      "     |  \n",
      "     |  ----------------------------------------------------------------------\n",
      "     |  Data descriptors defined here:\n",
      "     |  \n",
      "     |  __dict__\n",
      "     |      dictionary for instance variables (if defined)\n",
      "     |  \n",
      "     |  __weakref__\n",
      "     |      list of weak references to the object (if defined)\n",
      "     |  \n",
      "     |  ----------------------------------------------------------------------\n",
      "     |  Data and other attributes defined here:\n",
      "     |  \n",
      "     |  VERSION = 3\n",
      "     |  \n",
      "     |  ----------------------------------------------------------------------\n",
      "     |  Methods inherited from _random.Random:\n",
      "     |  \n",
      "     |  __getattribute__(self, name, /)\n",
      "     |      Return getattr(self, name).\n",
      "     |  \n",
      "     |  getrandbits(self, k, /)\n",
      "     |      getrandbits(k) -> x.  Generates an int with k random bits.\n",
      "     |  \n",
      "     |  random(self, /)\n",
      "     |      random() -> x in the interval [0, 1).\n",
      "     |  \n",
      "     |  ----------------------------------------------------------------------\n",
      "     |  Static methods inherited from _random.Random:\n",
      "     |  \n",
      "     |  __new__(*args, **kwargs) from builtins.type\n",
      "     |      Create and return a new object.  See help(type) for accurate signature.\n",
      "    \n",
      "    class SystemRandom(Random)\n",
      "     |  SystemRandom(x=None)\n",
      "     |  \n",
      "     |  Alternate random number generator using sources provided\n",
      "     |  by the operating system (such as /dev/urandom on Unix or\n",
      "     |  CryptGenRandom on Windows).\n",
      "     |  \n",
      "     |   Not available on all systems (see os.urandom() for details).\n",
      "     |  \n",
      "     |  Method resolution order:\n",
      "     |      SystemRandom\n",
      "     |      Random\n",
      "     |      _random.Random\n",
      "     |      builtins.object\n",
      "     |  \n",
      "     |  Methods defined here:\n",
      "     |  \n",
      "     |  getrandbits(self, k)\n",
      "     |      getrandbits(k) -> x.  Generates an int with k random bits.\n",
      "     |  \n",
      "     |  getstate = _notimplemented(self, *args, **kwds)\n",
      "     |  \n",
      "     |  random(self)\n",
      "     |      Get the next random number in the range [0.0, 1.0).\n",
      "     |  \n",
      "     |  seed(self, *args, **kwds)\n",
      "     |      Stub method.  Not used for a system random number generator.\n",
      "     |  \n",
      "     |  setstate = _notimplemented(self, *args, **kwds)\n",
      "     |  \n",
      "     |  ----------------------------------------------------------------------\n",
      "     |  Methods inherited from Random:\n",
      "     |  \n",
      "     |  __getstate__(self)\n",
      "     |      # Issue 17489: Since __reduce__ was defined to fix #759889 this is no\n",
      "     |      # longer called; we leave it here because it has been here since random was\n",
      "     |      # rewritten back in 2001 and why risk breaking something.\n",
      "     |  \n",
      "     |  __init__(self, x=None)\n",
      "     |      Initialize an instance.\n",
      "     |      \n",
      "     |      Optional argument x controls seeding, as for Random.seed().\n",
      "     |  \n",
      "     |  __reduce__(self)\n",
      "     |      Helper for pickle.\n",
      "     |  \n",
      "     |  __setstate__(self, state)\n",
      "     |  \n",
      "     |  betavariate(self, alpha, beta)\n",
      "     |      Beta distribution.\n",
      "     |      \n",
      "     |      Conditions on the parameters are alpha > 0 and beta > 0.\n",
      "     |      Returned values range between 0 and 1.\n",
      "     |  \n",
      "     |  choice(self, seq)\n",
      "     |      Choose a random element from a non-empty sequence.\n",
      "     |  \n",
      "     |  choices(self, population, weights=None, *, cum_weights=None, k=1)\n",
      "     |      Return a k sized list of population elements chosen with replacement.\n",
      "     |      \n",
      "     |      If the relative weights or cumulative weights are not specified,\n",
      "     |      the selections are made with equal probability.\n",
      "     |  \n",
      "     |  expovariate(self, lambd)\n",
      "     |      Exponential distribution.\n",
      "     |      \n",
      "     |      lambd is 1.0 divided by the desired mean.  It should be\n",
      "     |      nonzero.  (The parameter would be called \"lambda\", but that is\n",
      "     |      a reserved word in Python.)  Returned values range from 0 to\n",
      "     |      positive infinity if lambd is positive, and from negative\n",
      "     |      infinity to 0 if lambd is negative.\n",
      "     |  \n",
      "     |  gammavariate(self, alpha, beta)\n",
      "     |      Gamma distribution.  Not the gamma function!\n",
      "     |      \n",
      "     |      Conditions on the parameters are alpha > 0 and beta > 0.\n",
      "     |      \n",
      "     |      The probability distribution function is:\n",
      "     |      \n",
      "     |                  x ** (alpha - 1) * math.exp(-x / beta)\n",
      "     |        pdf(x) =  --------------------------------------\n",
      "     |                    math.gamma(alpha) * beta ** alpha\n",
      "     |  \n",
      "     |  gauss(self, mu, sigma)\n",
      "     |      Gaussian distribution.\n",
      "     |      \n",
      "     |      mu is the mean, and sigma is the standard deviation.  This is\n",
      "     |      slightly faster than the normalvariate() function.\n",
      "     |      \n",
      "     |      Not thread-safe without a lock around calls.\n",
      "     |  \n",
      "     |  lognormvariate(self, mu, sigma)\n",
      "     |      Log normal distribution.\n",
      "     |      \n",
      "     |      If you take the natural logarithm of this distribution, you'll get a\n",
      "     |      normal distribution with mean mu and standard deviation sigma.\n",
      "     |      mu can have any value, and sigma must be greater than zero.\n",
      "     |  \n",
      "     |  normalvariate(self, mu, sigma)\n",
      "     |      Normal distribution.\n",
      "     |      \n",
      "     |      mu is the mean, and sigma is the standard deviation.\n",
      "     |  \n",
      "     |  paretovariate(self, alpha)\n",
      "     |      Pareto distribution.  alpha is the shape parameter.\n",
      "     |  \n",
      "     |  randint(self, a, b)\n",
      "     |      Return random integer in range [a, b], including both end points.\n",
      "     |  \n",
      "     |  randrange(self, start, stop=None, step=1, _int=<class 'int'>)\n",
      "     |      Choose a random item from range(start, stop[, step]).\n",
      "     |      \n",
      "     |      This fixes the problem with randint() which includes the\n",
      "     |      endpoint; in Python this is usually not what you want.\n",
      "     |  \n",
      "     |  sample(self, population, k)\n",
      "     |      Chooses k unique random elements from a population sequence or set.\n",
      "     |      \n",
      "     |      Returns a new list containing elements from the population while\n",
      "     |      leaving the original population unchanged.  The resulting list is\n",
      "     |      in selection order so that all sub-slices will also be valid random\n",
      "     |      samples.  This allows raffle winners (the sample) to be partitioned\n",
      "     |      into grand prize and second place winners (the subslices).\n",
      "     |      \n",
      "     |      Members of the population need not be hashable or unique.  If the\n",
      "     |      population contains repeats, then each occurrence is a possible\n",
      "     |      selection in the sample.\n",
      "     |      \n",
      "     |      To choose a sample in a range of integers, use range as an argument.\n",
      "     |      This is especially fast and space efficient for sampling from a\n",
      "     |      large population:   sample(range(10000000), 60)\n",
      "     |  \n",
      "     |  shuffle(self, x, random=None)\n",
      "     |      Shuffle list x in place, and return None.\n",
      "     |      \n",
      "     |      Optional argument random is a 0-argument function returning a\n",
      "     |      random float in [0.0, 1.0); if it is the default None, the\n",
      "     |      standard random.random will be used.\n",
      "     |  \n",
      "     |  triangular(self, low=0.0, high=1.0, mode=None)\n",
      "     |      Triangular distribution.\n",
      "     |      \n",
      "     |      Continuous distribution bounded by given lower and upper limits,\n",
      "     |      and having a given mode value in-between.\n",
      "     |      \n",
      "     |      http://en.wikipedia.org/wiki/Triangular_distribution\n",
      "     |  \n",
      "     |  uniform(self, a, b)\n",
      "     |      Get a random number in the range [a, b) or [a, b] depending on rounding.\n",
      "     |  \n",
      "     |  vonmisesvariate(self, mu, kappa)\n",
      "     |      Circular data distribution.\n",
      "     |      \n",
      "     |      mu is the mean angle, expressed in radians between 0 and 2*pi, and\n",
      "     |      kappa is the concentration parameter, which must be greater than or\n",
      "     |      equal to zero.  If kappa is equal to zero, this distribution reduces\n",
      "     |      to a uniform random angle over the range 0 to 2*pi.\n",
      "     |  \n",
      "     |  weibullvariate(self, alpha, beta)\n",
      "     |      Weibull distribution.\n",
      "     |      \n",
      "     |      alpha is the scale parameter and beta is the shape parameter.\n",
      "     |  \n",
      "     |  ----------------------------------------------------------------------\n",
      "     |  Class methods inherited from Random:\n",
      "     |  \n",
      "     |  __init_subclass__(**kwargs) from builtins.type\n",
      "     |      Control how subclasses generate random integers.\n",
      "     |      \n",
      "     |      The algorithm a subclass can use depends on the random() and/or\n",
      "     |      getrandbits() implementation available to it and determines\n",
      "     |      whether it can generate random integers from arbitrarily large\n",
      "     |      ranges.\n",
      "     |  \n",
      "     |  ----------------------------------------------------------------------\n",
      "     |  Data descriptors inherited from Random:\n",
      "     |  \n",
      "     |  __dict__\n",
      "     |      dictionary for instance variables (if defined)\n",
      "     |  \n",
      "     |  __weakref__\n",
      "     |      list of weak references to the object (if defined)\n",
      "     |  \n",
      "     |  ----------------------------------------------------------------------\n",
      "     |  Data and other attributes inherited from Random:\n",
      "     |  \n",
      "     |  VERSION = 3\n",
      "     |  \n",
      "     |  ----------------------------------------------------------------------\n",
      "     |  Methods inherited from _random.Random:\n",
      "     |  \n",
      "     |  __getattribute__(self, name, /)\n",
      "     |      Return getattr(self, name).\n",
      "     |  \n",
      "     |  ----------------------------------------------------------------------\n",
      "     |  Static methods inherited from _random.Random:\n",
      "     |  \n",
      "     |  __new__(*args, **kwargs) from builtins.type\n",
      "     |      Create and return a new object.  See help(type) for accurate signature.\n",
      "\n",
      "FUNCTIONS\n",
      "    betavariate(alpha, beta) method of Random instance\n",
      "        Beta distribution.\n",
      "        \n",
      "        Conditions on the parameters are alpha > 0 and beta > 0.\n",
      "        Returned values range between 0 and 1.\n",
      "    \n",
      "    choice(seq) method of Random instance\n",
      "        Choose a random element from a non-empty sequence.\n",
      "    \n",
      "    choices(population, weights=None, *, cum_weights=None, k=1) method of Random instance\n",
      "        Return a k sized list of population elements chosen with replacement.\n",
      "        \n",
      "        If the relative weights or cumulative weights are not specified,\n",
      "        the selections are made with equal probability.\n",
      "    \n",
      "    expovariate(lambd) method of Random instance\n",
      "        Exponential distribution.\n",
      "        \n",
      "        lambd is 1.0 divided by the desired mean.  It should be\n",
      "        nonzero.  (The parameter would be called \"lambda\", but that is\n",
      "        a reserved word in Python.)  Returned values range from 0 to\n",
      "        positive infinity if lambd is positive, and from negative\n",
      "        infinity to 0 if lambd is negative.\n",
      "    \n",
      "    gammavariate(alpha, beta) method of Random instance\n",
      "        Gamma distribution.  Not the gamma function!\n",
      "        \n",
      "        Conditions on the parameters are alpha > 0 and beta > 0.\n",
      "        \n",
      "        The probability distribution function is:\n",
      "        \n",
      "                    x ** (alpha - 1) * math.exp(-x / beta)\n",
      "          pdf(x) =  --------------------------------------\n",
      "                      math.gamma(alpha) * beta ** alpha\n",
      "    \n",
      "    gauss(mu, sigma) method of Random instance\n",
      "        Gaussian distribution.\n",
      "        \n",
      "        mu is the mean, and sigma is the standard deviation.  This is\n",
      "        slightly faster than the normalvariate() function.\n",
      "        \n",
      "        Not thread-safe without a lock around calls.\n",
      "    \n",
      "    getrandbits(k, /) method of Random instance\n",
      "        getrandbits(k) -> x.  Generates an int with k random bits.\n",
      "    \n",
      "    getstate() method of Random instance\n",
      "        Return internal state; can be passed to setstate() later.\n",
      "    \n",
      "    lognormvariate(mu, sigma) method of Random instance\n",
      "        Log normal distribution.\n",
      "        \n",
      "        If you take the natural logarithm of this distribution, you'll get a\n",
      "        normal distribution with mean mu and standard deviation sigma.\n",
      "        mu can have any value, and sigma must be greater than zero.\n",
      "    \n",
      "    normalvariate(mu, sigma) method of Random instance\n",
      "        Normal distribution.\n",
      "        \n",
      "        mu is the mean, and sigma is the standard deviation.\n",
      "    \n",
      "    paretovariate(alpha) method of Random instance\n",
      "        Pareto distribution.  alpha is the shape parameter.\n",
      "    \n",
      "    randint(a, b) method of Random instance\n",
      "        Return random integer in range [a, b], including both end points.\n",
      "    \n",
      "    random() method of Random instance\n",
      "        random() -> x in the interval [0, 1).\n",
      "    \n",
      "    randrange(start, stop=None, step=1, _int=<class 'int'>) method of Random instance\n",
      "        Choose a random item from range(start, stop[, step]).\n",
      "        \n",
      "        This fixes the problem with randint() which includes the\n",
      "        endpoint; in Python this is usually not what you want.\n",
      "    \n",
      "    sample(population, k) method of Random instance\n",
      "        Chooses k unique random elements from a population sequence or set.\n",
      "        \n",
      "        Returns a new list containing elements from the population while\n",
      "        leaving the original population unchanged.  The resulting list is\n",
      "        in selection order so that all sub-slices will also be valid random\n",
      "        samples.  This allows raffle winners (the sample) to be partitioned\n",
      "        into grand prize and second place winners (the subslices).\n",
      "        \n",
      "        Members of the population need not be hashable or unique.  If the\n",
      "        population contains repeats, then each occurrence is a possible\n",
      "        selection in the sample.\n",
      "        \n",
      "        To choose a sample in a range of integers, use range as an argument.\n",
      "        This is especially fast and space efficient for sampling from a\n",
      "        large population:   sample(range(10000000), 60)\n",
      "    \n",
      "    seed(a=None, version=2) method of Random instance\n",
      "        Initialize internal state from hashable object.\n",
      "        \n",
      "        None or no argument seeds from current time or from an operating\n",
      "        system specific randomness source if available.\n",
      "        \n",
      "        If *a* is an int, all bits are used.\n",
      "        \n",
      "        For version 2 (the default), all of the bits are used if *a* is a str,\n",
      "        bytes, or bytearray.  For version 1 (provided for reproducing random\n",
      "        sequences from older versions of Python), the algorithm for str and\n",
      "        bytes generates a narrower range of seeds.\n",
      "    \n",
      "    setstate(state) method of Random instance\n",
      "        Restore internal state from object returned by getstate().\n",
      "    \n",
      "    shuffle(x, random=None) method of Random instance\n",
      "        Shuffle list x in place, and return None.\n",
      "        \n",
      "        Optional argument random is a 0-argument function returning a\n",
      "        random float in [0.0, 1.0); if it is the default None, the\n",
      "        standard random.random will be used.\n",
      "    \n",
      "    triangular(low=0.0, high=1.0, mode=None) method of Random instance\n",
      "        Triangular distribution.\n",
      "        \n",
      "        Continuous distribution bounded by given lower and upper limits,\n",
      "        and having a given mode value in-between.\n",
      "        \n",
      "        http://en.wikipedia.org/wiki/Triangular_distribution\n",
      "    \n",
      "    uniform(a, b) method of Random instance\n",
      "        Get a random number in the range [a, b) or [a, b] depending on rounding.\n",
      "    \n",
      "    vonmisesvariate(mu, kappa) method of Random instance\n",
      "        Circular data distribution.\n",
      "        \n",
      "        mu is the mean angle, expressed in radians between 0 and 2*pi, and\n",
      "        kappa is the concentration parameter, which must be greater than or\n",
      "        equal to zero.  If kappa is equal to zero, this distribution reduces\n",
      "        to a uniform random angle over the range 0 to 2*pi.\n",
      "    \n",
      "    weibullvariate(alpha, beta) method of Random instance\n",
      "        Weibull distribution.\n",
      "        \n",
      "        alpha is the scale parameter and beta is the shape parameter.\n",
      "\n",
      "DATA\n",
      "    __all__ = ['Random', 'seed', 'random', 'uniform', 'randint', 'choice',...\n",
      "\n",
      "FILE\n",
      "    c:\\users\\coliveir\\anaconda3\\lib\\random.py\n",
      "\n",
      "\n"
     ]
    }
   ],
   "source": [
    "help(random)"
   ]
  },
  {
   "cell_type": "code",
   "execution_count": 62,
   "id": "14f0601b-106f-4015-8214-71c3a57e374b",
   "metadata": {},
   "outputs": [
    {
     "data": {
      "text/plain": [
       "'A'"
      ]
     },
     "execution_count": 62,
     "metadata": {},
     "output_type": "execute_result"
    }
   ],
   "source": [
    "random.choice(bases)"
   ]
  },
  {
   "cell_type": "code",
   "execution_count": 71,
   "id": "b3ae0c69-e057-495f-91f3-ce77640325e6",
   "metadata": {},
   "outputs": [
    {
     "name": "stdout",
     "output_type": "stream",
     "text": [
      "random base is = T and base index = 2\n"
     ]
    }
   ],
   "source": [
    "import math\n",
    "import random\n",
    "x = len(bases)\n",
    "y = random.randrange(0, x)\n",
    "print(\"random base is =\", bases[y], \"and base index =\", y)"
   ]
  },
  {
   "cell_type": "code",
   "execution_count": 75,
   "id": "f2aa648e-b749-4209-a856-3c440eeda79e",
   "metadata": {},
   "outputs": [
    {
     "data": {
      "text/html": [
       "<div>\n",
       "<style scoped>\n",
       "    .dataframe tbody tr th:only-of-type {\n",
       "        vertical-align: middle;\n",
       "    }\n",
       "\n",
       "    .dataframe tbody tr th {\n",
       "        vertical-align: top;\n",
       "    }\n",
       "\n",
       "    .dataframe thead th {\n",
       "        text-align: right;\n",
       "    }\n",
       "</style>\n",
       "<table border=\"1\" class=\"dataframe\">\n",
       "  <thead>\n",
       "    <tr style=\"text-align: right;\">\n",
       "      <th></th>\n",
       "      <th>DisProt entry ID</th>\n",
       "      <th>UniProt ACC</th>\n",
       "      <th>Start</th>\n",
       "      <th>End</th>\n",
       "      <th>Reference</th>\n",
       "      <th>Length</th>\n",
       "    </tr>\n",
       "  </thead>\n",
       "  <tbody>\n",
       "    <tr>\n",
       "      <th>0</th>\n",
       "      <td>DP00613</td>\n",
       "      <td>Q22472</td>\n",
       "      <td>1</td>\n",
       "      <td>378</td>\n",
       "      <td>pmid:19899809</td>\n",
       "      <td>378</td>\n",
       "    </tr>\n",
       "    <tr>\n",
       "      <th>1</th>\n",
       "      <td>DP00868</td>\n",
       "      <td>Q9NHC3</td>\n",
       "      <td>102</td>\n",
       "      <td>117</td>\n",
       "      <td>pmid:21616056</td>\n",
       "      <td>279</td>\n",
       "    </tr>\n",
       "    <tr>\n",
       "      <th>2</th>\n",
       "      <td>DP01090</td>\n",
       "      <td>G4SLH0</td>\n",
       "      <td>3546</td>\n",
       "      <td>3795</td>\n",
       "      <td>pmid:20346955</td>\n",
       "      <td>18562</td>\n",
       "    </tr>\n",
       "    <tr>\n",
       "      <th>3</th>\n",
       "      <td>DP01113</td>\n",
       "      <td>D0PV95</td>\n",
       "      <td>1</td>\n",
       "      <td>168</td>\n",
       "      <td>pmid:26015579</td>\n",
       "      <td>708</td>\n",
       "    </tr>\n",
       "    <tr>\n",
       "      <th>4</th>\n",
       "      <td>DP01313</td>\n",
       "      <td>Q9N4U5</td>\n",
       "      <td>163</td>\n",
       "      <td>223</td>\n",
       "      <td>pmid:27150041</td>\n",
       "      <td>547</td>\n",
       "    </tr>\n",
       "    <tr>\n",
       "      <th>5</th>\n",
       "      <td>DP01407</td>\n",
       "      <td>O61667</td>\n",
       "      <td>93</td>\n",
       "      <td>106</td>\n",
       "      <td>pmid:15383288</td>\n",
       "      <td>106</td>\n",
       "    </tr>\n",
       "    <tr>\n",
       "      <th>6</th>\n",
       "      <td>DP01436</td>\n",
       "      <td>P54936</td>\n",
       "      <td>423</td>\n",
       "      <td>487</td>\n",
       "      <td>pmid:12110687</td>\n",
       "      <td>961</td>\n",
       "    </tr>\n",
       "    <tr>\n",
       "      <th>7</th>\n",
       "      <td>DP01437</td>\n",
       "      <td>P90976</td>\n",
       "      <td>115</td>\n",
       "      <td>180</td>\n",
       "      <td>pmid:12110687</td>\n",
       "      <td>297</td>\n",
       "    </tr>\n",
       "    <tr>\n",
       "      <th>8</th>\n",
       "      <td>DP01558</td>\n",
       "      <td>Q9XTY3</td>\n",
       "      <td>17</td>\n",
       "      <td>211</td>\n",
       "      <td>pmid:22947085</td>\n",
       "      <td>211</td>\n",
       "    </tr>\n",
       "    <tr>\n",
       "      <th>9</th>\n",
       "      <td>DP01973</td>\n",
       "      <td>Q09514</td>\n",
       "      <td>1</td>\n",
       "      <td>18</td>\n",
       "      <td>pmid:26621324</td>\n",
       "      <td>266</td>\n",
       "    </tr>\n",
       "    <tr>\n",
       "      <th>10</th>\n",
       "      <td>DP02025</td>\n",
       "      <td>P30429</td>\n",
       "      <td>1</td>\n",
       "      <td>105</td>\n",
       "      <td>pmid:16208361</td>\n",
       "      <td>571</td>\n",
       "    </tr>\n",
       "    <tr>\n",
       "      <th>11</th>\n",
       "      <td>DP02216</td>\n",
       "      <td>Q9U3S5</td>\n",
       "      <td>1</td>\n",
       "      <td>100</td>\n",
       "      <td>pmid:30036386</td>\n",
       "      <td>1050</td>\n",
       "    </tr>\n",
       "    <tr>\n",
       "      <th>12</th>\n",
       "      <td>DP02313</td>\n",
       "      <td>Q8IG33</td>\n",
       "      <td>18</td>\n",
       "      <td>88</td>\n",
       "      <td>pmid:21397184</td>\n",
       "      <td>186</td>\n",
       "    </tr>\n",
       "  </tbody>\n",
       "</table>\n",
       "</div>"
      ],
      "text/plain": [
       "   DisProt entry ID UniProt ACC  Start   End      Reference  Length\n",
       "0           DP00613      Q22472      1   378  pmid:19899809     378\n",
       "1           DP00868      Q9NHC3    102   117  pmid:21616056     279\n",
       "2           DP01090      G4SLH0   3546  3795  pmid:20346955   18562\n",
       "3           DP01113      D0PV95      1   168  pmid:26015579     708\n",
       "4           DP01313      Q9N4U5    163   223  pmid:27150041     547\n",
       "5           DP01407      O61667     93   106  pmid:15383288     106\n",
       "6           DP01436      P54936    423   487  pmid:12110687     961\n",
       "7           DP01437      P90976    115   180  pmid:12110687     297\n",
       "8           DP01558      Q9XTY3     17   211  pmid:22947085     211\n",
       "9           DP01973      Q09514      1    18  pmid:26621324     266\n",
       "10          DP02025      P30429      1   105  pmid:16208361     571\n",
       "11          DP02216      Q9U3S5      1   100  pmid:30036386    1050\n",
       "12          DP02313      Q8IG33     18    88  pmid:21397184     186"
      ]
     },
     "execution_count": 75,
     "metadata": {},
     "output_type": "execute_result"
    }
   ],
   "source": [
    "import pandas as pd\n",
    "data = pd.read_csv(\"DisProt_data_Caenorhabditis-elegans.csv\")\n",
    "data"
   ]
  },
  {
   "cell_type": "code",
   "execution_count": 76,
   "id": "94b1e2fe-bdb4-49c4-9ff4-e54b60fd8bdd",
   "metadata": {},
   "outputs": [
    {
     "name": "stdout",
     "output_type": "stream",
     "text": [
      "   DisProt entry ID UniProt ACC  Start   End      Reference  Length\n",
      "0           DP00613      Q22472      1   378  pmid:19899809     378\n",
      "1           DP00868      Q9NHC3    102   117  pmid:21616056     279\n",
      "2           DP01090      G4SLH0   3546  3795  pmid:20346955   18562\n",
      "3           DP01113      D0PV95      1   168  pmid:26015579     708\n",
      "4           DP01313      Q9N4U5    163   223  pmid:27150041     547\n",
      "5           DP01407      O61667     93   106  pmid:15383288     106\n",
      "6           DP01436      P54936    423   487  pmid:12110687     961\n",
      "7           DP01437      P90976    115   180  pmid:12110687     297\n",
      "8           DP01558      Q9XTY3     17   211  pmid:22947085     211\n",
      "9           DP01973      Q09514      1    18  pmid:26621324     266\n",
      "10          DP02025      P30429      1   105  pmid:16208361     571\n",
      "11          DP02216      Q9U3S5      1   100  pmid:30036386    1050\n",
      "12          DP02313      Q8IG33     18    88  pmid:21397184     186\n"
     ]
    }
   ],
   "source": [
    "print(data)"
   ]
  },
  {
   "cell_type": "code",
   "execution_count": 78,
   "id": "c43b882b-68c9-490e-8344-38c31ea8a453",
   "metadata": {},
   "outputs": [
    {
     "data": {
      "text/html": [
       "<div>\n",
       "<style scoped>\n",
       "    .dataframe tbody tr th:only-of-type {\n",
       "        vertical-align: middle;\n",
       "    }\n",
       "\n",
       "    .dataframe tbody tr th {\n",
       "        vertical-align: top;\n",
       "    }\n",
       "\n",
       "    .dataframe thead th {\n",
       "        text-align: right;\n",
       "    }\n",
       "</style>\n",
       "<table border=\"1\" class=\"dataframe\">\n",
       "  <thead>\n",
       "    <tr style=\"text-align: right;\">\n",
       "      <th></th>\n",
       "      <th>UniProt ACC</th>\n",
       "      <th>Start</th>\n",
       "      <th>End</th>\n",
       "      <th>Reference</th>\n",
       "      <th>Length</th>\n",
       "    </tr>\n",
       "    <tr>\n",
       "      <th>DisProt entry ID</th>\n",
       "      <th></th>\n",
       "      <th></th>\n",
       "      <th></th>\n",
       "      <th></th>\n",
       "      <th></th>\n",
       "    </tr>\n",
       "  </thead>\n",
       "  <tbody>\n",
       "    <tr>\n",
       "      <th>DP00613</th>\n",
       "      <td>Q22472</td>\n",
       "      <td>1</td>\n",
       "      <td>378</td>\n",
       "      <td>pmid:19899809</td>\n",
       "      <td>378</td>\n",
       "    </tr>\n",
       "    <tr>\n",
       "      <th>DP00868</th>\n",
       "      <td>Q9NHC3</td>\n",
       "      <td>102</td>\n",
       "      <td>117</td>\n",
       "      <td>pmid:21616056</td>\n",
       "      <td>279</td>\n",
       "    </tr>\n",
       "    <tr>\n",
       "      <th>DP01090</th>\n",
       "      <td>G4SLH0</td>\n",
       "      <td>3546</td>\n",
       "      <td>3795</td>\n",
       "      <td>pmid:20346955</td>\n",
       "      <td>18562</td>\n",
       "    </tr>\n",
       "    <tr>\n",
       "      <th>DP01113</th>\n",
       "      <td>D0PV95</td>\n",
       "      <td>1</td>\n",
       "      <td>168</td>\n",
       "      <td>pmid:26015579</td>\n",
       "      <td>708</td>\n",
       "    </tr>\n",
       "    <tr>\n",
       "      <th>DP01313</th>\n",
       "      <td>Q9N4U5</td>\n",
       "      <td>163</td>\n",
       "      <td>223</td>\n",
       "      <td>pmid:27150041</td>\n",
       "      <td>547</td>\n",
       "    </tr>\n",
       "    <tr>\n",
       "      <th>DP01407</th>\n",
       "      <td>O61667</td>\n",
       "      <td>93</td>\n",
       "      <td>106</td>\n",
       "      <td>pmid:15383288</td>\n",
       "      <td>106</td>\n",
       "    </tr>\n",
       "    <tr>\n",
       "      <th>DP01436</th>\n",
       "      <td>P54936</td>\n",
       "      <td>423</td>\n",
       "      <td>487</td>\n",
       "      <td>pmid:12110687</td>\n",
       "      <td>961</td>\n",
       "    </tr>\n",
       "    <tr>\n",
       "      <th>DP01437</th>\n",
       "      <td>P90976</td>\n",
       "      <td>115</td>\n",
       "      <td>180</td>\n",
       "      <td>pmid:12110687</td>\n",
       "      <td>297</td>\n",
       "    </tr>\n",
       "    <tr>\n",
       "      <th>DP01558</th>\n",
       "      <td>Q9XTY3</td>\n",
       "      <td>17</td>\n",
       "      <td>211</td>\n",
       "      <td>pmid:22947085</td>\n",
       "      <td>211</td>\n",
       "    </tr>\n",
       "    <tr>\n",
       "      <th>DP01973</th>\n",
       "      <td>Q09514</td>\n",
       "      <td>1</td>\n",
       "      <td>18</td>\n",
       "      <td>pmid:26621324</td>\n",
       "      <td>266</td>\n",
       "    </tr>\n",
       "    <tr>\n",
       "      <th>DP02025</th>\n",
       "      <td>P30429</td>\n",
       "      <td>1</td>\n",
       "      <td>105</td>\n",
       "      <td>pmid:16208361</td>\n",
       "      <td>571</td>\n",
       "    </tr>\n",
       "    <tr>\n",
       "      <th>DP02216</th>\n",
       "      <td>Q9U3S5</td>\n",
       "      <td>1</td>\n",
       "      <td>100</td>\n",
       "      <td>pmid:30036386</td>\n",
       "      <td>1050</td>\n",
       "    </tr>\n",
       "    <tr>\n",
       "      <th>DP02313</th>\n",
       "      <td>Q8IG33</td>\n",
       "      <td>18</td>\n",
       "      <td>88</td>\n",
       "      <td>pmid:21397184</td>\n",
       "      <td>186</td>\n",
       "    </tr>\n",
       "  </tbody>\n",
       "</table>\n",
       "</div>"
      ],
      "text/plain": [
       "                 UniProt ACC  Start   End      Reference  Length\n",
       "DisProt entry ID                                                \n",
       "DP00613               Q22472      1   378  pmid:19899809     378\n",
       "DP00868               Q9NHC3    102   117  pmid:21616056     279\n",
       "DP01090               G4SLH0   3546  3795  pmid:20346955   18562\n",
       "DP01113               D0PV95      1   168  pmid:26015579     708\n",
       "DP01313               Q9N4U5    163   223  pmid:27150041     547\n",
       "DP01407               O61667     93   106  pmid:15383288     106\n",
       "DP01436               P54936    423   487  pmid:12110687     961\n",
       "DP01437               P90976    115   180  pmid:12110687     297\n",
       "DP01558               Q9XTY3     17   211  pmid:22947085     211\n",
       "DP01973               Q09514      1    18  pmid:26621324     266\n",
       "DP02025               P30429      1   105  pmid:16208361     571\n",
       "DP02216               Q9U3S5      1   100  pmid:30036386    1050\n",
       "DP02313               Q8IG33     18    88  pmid:21397184     186"
      ]
     },
     "execution_count": 78,
     "metadata": {},
     "output_type": "execute_result"
    }
   ],
   "source": [
    "data = pd.read_csv(\"DisProt_data_Caenorhabditis-elegans.csv\", index_col='DisProt entry ID')\n",
    "data"
   ]
  },
  {
   "cell_type": "code",
   "execution_count": 79,
   "id": "4014dac3-80c4-4c96-853c-a364b572ab99",
   "metadata": {},
   "outputs": [
    {
     "name": "stdout",
     "output_type": "stream",
     "text": [
      "<class 'pandas.core.frame.DataFrame'>\n",
      "Index: 13 entries, DP00613 to DP02313\n",
      "Data columns (total 5 columns):\n",
      " #   Column       Non-Null Count  Dtype \n",
      "---  ------       --------------  ----- \n",
      " 0   UniProt ACC  13 non-null     object\n",
      " 1   Start        13 non-null     int64 \n",
      " 2   End          13 non-null     int64 \n",
      " 3   Reference    13 non-null     object\n",
      " 4   Length       13 non-null     int64 \n",
      "dtypes: int64(3), object(2)\n",
      "memory usage: 624.0+ bytes\n"
     ]
    }
   ],
   "source": [
    "data.info()"
   ]
  },
  {
   "cell_type": "code",
   "execution_count": 82,
   "id": "9230845e-f616-452f-b448-c6f118801c96",
   "metadata": {},
   "outputs": [
    {
     "data": {
      "text/plain": [
       "'Reference'"
      ]
     },
     "execution_count": 82,
     "metadata": {},
     "output_type": "execute_result"
    }
   ],
   "source": [
    "data.columns[3]"
   ]
  },
  {
   "cell_type": "code",
   "execution_count": 83,
   "id": "15983708-046f-4eb6-a63a-c2f3371585ff",
   "metadata": {},
   "outputs": [
    {
     "data": {
      "text/html": [
       "<div>\n",
       "<style scoped>\n",
       "    .dataframe tbody tr th:only-of-type {\n",
       "        vertical-align: middle;\n",
       "    }\n",
       "\n",
       "    .dataframe tbody tr th {\n",
       "        vertical-align: top;\n",
       "    }\n",
       "\n",
       "    .dataframe thead th {\n",
       "        text-align: right;\n",
       "    }\n",
       "</style>\n",
       "<table border=\"1\" class=\"dataframe\">\n",
       "  <thead>\n",
       "    <tr style=\"text-align: right;\">\n",
       "      <th>DisProt entry ID</th>\n",
       "      <th>DP00613</th>\n",
       "      <th>DP00868</th>\n",
       "      <th>DP01090</th>\n",
       "      <th>DP01113</th>\n",
       "      <th>DP01313</th>\n",
       "      <th>DP01407</th>\n",
       "      <th>DP01436</th>\n",
       "      <th>DP01437</th>\n",
       "      <th>DP01558</th>\n",
       "      <th>DP01973</th>\n",
       "      <th>DP02025</th>\n",
       "      <th>DP02216</th>\n",
       "      <th>DP02313</th>\n",
       "    </tr>\n",
       "  </thead>\n",
       "  <tbody>\n",
       "    <tr>\n",
       "      <th>UniProt ACC</th>\n",
       "      <td>Q22472</td>\n",
       "      <td>Q9NHC3</td>\n",
       "      <td>G4SLH0</td>\n",
       "      <td>D0PV95</td>\n",
       "      <td>Q9N4U5</td>\n",
       "      <td>O61667</td>\n",
       "      <td>P54936</td>\n",
       "      <td>P90976</td>\n",
       "      <td>Q9XTY3</td>\n",
       "      <td>Q09514</td>\n",
       "      <td>P30429</td>\n",
       "      <td>Q9U3S5</td>\n",
       "      <td>Q8IG33</td>\n",
       "    </tr>\n",
       "    <tr>\n",
       "      <th>Start</th>\n",
       "      <td>1</td>\n",
       "      <td>102</td>\n",
       "      <td>3546</td>\n",
       "      <td>1</td>\n",
       "      <td>163</td>\n",
       "      <td>93</td>\n",
       "      <td>423</td>\n",
       "      <td>115</td>\n",
       "      <td>17</td>\n",
       "      <td>1</td>\n",
       "      <td>1</td>\n",
       "      <td>1</td>\n",
       "      <td>18</td>\n",
       "    </tr>\n",
       "    <tr>\n",
       "      <th>End</th>\n",
       "      <td>378</td>\n",
       "      <td>117</td>\n",
       "      <td>3795</td>\n",
       "      <td>168</td>\n",
       "      <td>223</td>\n",
       "      <td>106</td>\n",
       "      <td>487</td>\n",
       "      <td>180</td>\n",
       "      <td>211</td>\n",
       "      <td>18</td>\n",
       "      <td>105</td>\n",
       "      <td>100</td>\n",
       "      <td>88</td>\n",
       "    </tr>\n",
       "    <tr>\n",
       "      <th>Reference</th>\n",
       "      <td>pmid:19899809</td>\n",
       "      <td>pmid:21616056</td>\n",
       "      <td>pmid:20346955</td>\n",
       "      <td>pmid:26015579</td>\n",
       "      <td>pmid:27150041</td>\n",
       "      <td>pmid:15383288</td>\n",
       "      <td>pmid:12110687</td>\n",
       "      <td>pmid:12110687</td>\n",
       "      <td>pmid:22947085</td>\n",
       "      <td>pmid:26621324</td>\n",
       "      <td>pmid:16208361</td>\n",
       "      <td>pmid:30036386</td>\n",
       "      <td>pmid:21397184</td>\n",
       "    </tr>\n",
       "    <tr>\n",
       "      <th>Length</th>\n",
       "      <td>378</td>\n",
       "      <td>279</td>\n",
       "      <td>18562</td>\n",
       "      <td>708</td>\n",
       "      <td>547</td>\n",
       "      <td>106</td>\n",
       "      <td>961</td>\n",
       "      <td>297</td>\n",
       "      <td>211</td>\n",
       "      <td>266</td>\n",
       "      <td>571</td>\n",
       "      <td>1050</td>\n",
       "      <td>186</td>\n",
       "    </tr>\n",
       "  </tbody>\n",
       "</table>\n",
       "</div>"
      ],
      "text/plain": [
       "DisProt entry ID        DP00613        DP00868        DP01090        DP01113  \\\n",
       "UniProt ACC              Q22472         Q9NHC3         G4SLH0         D0PV95   \n",
       "Start                         1            102           3546              1   \n",
       "End                         378            117           3795            168   \n",
       "Reference         pmid:19899809  pmid:21616056  pmid:20346955  pmid:26015579   \n",
       "Length                      378            279          18562            708   \n",
       "\n",
       "DisProt entry ID        DP01313        DP01407        DP01436        DP01437  \\\n",
       "UniProt ACC              Q9N4U5         O61667         P54936         P90976   \n",
       "Start                       163             93            423            115   \n",
       "End                         223            106            487            180   \n",
       "Reference         pmid:27150041  pmid:15383288  pmid:12110687  pmid:12110687   \n",
       "Length                      547            106            961            297   \n",
       "\n",
       "DisProt entry ID        DP01558        DP01973        DP02025        DP02216  \\\n",
       "UniProt ACC              Q9XTY3         Q09514         P30429         Q9U3S5   \n",
       "Start                        17              1              1              1   \n",
       "End                         211             18            105            100   \n",
       "Reference         pmid:22947085  pmid:26621324  pmid:16208361  pmid:30036386   \n",
       "Length                      211            266            571           1050   \n",
       "\n",
       "DisProt entry ID        DP02313  \n",
       "UniProt ACC              Q8IG33  \n",
       "Start                        18  \n",
       "End                          88  \n",
       "Reference         pmid:21397184  \n",
       "Length                      186  "
      ]
     },
     "execution_count": 83,
     "metadata": {},
     "output_type": "execute_result"
    }
   ],
   "source": [
    "data.T"
   ]
  },
  {
   "cell_type": "code",
   "execution_count": 84,
   "id": "fd9f70a5-720f-46a5-bbd7-b7c0bb449187",
   "metadata": {},
   "outputs": [
    {
     "data": {
      "text/html": [
       "<div>\n",
       "<style scoped>\n",
       "    .dataframe tbody tr th:only-of-type {\n",
       "        vertical-align: middle;\n",
       "    }\n",
       "\n",
       "    .dataframe tbody tr th {\n",
       "        vertical-align: top;\n",
       "    }\n",
       "\n",
       "    .dataframe thead th {\n",
       "        text-align: right;\n",
       "    }\n",
       "</style>\n",
       "<table border=\"1\" class=\"dataframe\">\n",
       "  <thead>\n",
       "    <tr style=\"text-align: right;\">\n",
       "      <th></th>\n",
       "      <th>Start</th>\n",
       "      <th>End</th>\n",
       "      <th>Length</th>\n",
       "    </tr>\n",
       "  </thead>\n",
       "  <tbody>\n",
       "    <tr>\n",
       "      <th>count</th>\n",
       "      <td>13.000000</td>\n",
       "      <td>13.000000</td>\n",
       "      <td>13.000000</td>\n",
       "    </tr>\n",
       "    <tr>\n",
       "      <th>mean</th>\n",
       "      <td>344.769231</td>\n",
       "      <td>459.692308</td>\n",
       "      <td>1855.538462</td>\n",
       "    </tr>\n",
       "    <tr>\n",
       "      <th>std</th>\n",
       "      <td>968.988059</td>\n",
       "      <td>1010.109267</td>\n",
       "      <td>5028.345679</td>\n",
       "    </tr>\n",
       "    <tr>\n",
       "      <th>min</th>\n",
       "      <td>1.000000</td>\n",
       "      <td>18.000000</td>\n",
       "      <td>106.000000</td>\n",
       "    </tr>\n",
       "    <tr>\n",
       "      <th>25%</th>\n",
       "      <td>1.000000</td>\n",
       "      <td>105.000000</td>\n",
       "      <td>266.000000</td>\n",
       "    </tr>\n",
       "    <tr>\n",
       "      <th>50%</th>\n",
       "      <td>18.000000</td>\n",
       "      <td>168.000000</td>\n",
       "      <td>378.000000</td>\n",
       "    </tr>\n",
       "    <tr>\n",
       "      <th>75%</th>\n",
       "      <td>115.000000</td>\n",
       "      <td>223.000000</td>\n",
       "      <td>708.000000</td>\n",
       "    </tr>\n",
       "    <tr>\n",
       "      <th>max</th>\n",
       "      <td>3546.000000</td>\n",
       "      <td>3795.000000</td>\n",
       "      <td>18562.000000</td>\n",
       "    </tr>\n",
       "  </tbody>\n",
       "</table>\n",
       "</div>"
      ],
      "text/plain": [
       "             Start          End        Length\n",
       "count    13.000000    13.000000     13.000000\n",
       "mean    344.769231   459.692308   1855.538462\n",
       "std     968.988059  1010.109267   5028.345679\n",
       "min       1.000000    18.000000    106.000000\n",
       "25%       1.000000   105.000000    266.000000\n",
       "50%      18.000000   168.000000    378.000000\n",
       "75%     115.000000   223.000000    708.000000\n",
       "max    3546.000000  3795.000000  18562.000000"
      ]
     },
     "execution_count": 84,
     "metadata": {},
     "output_type": "execute_result"
    }
   ],
   "source": [
    "data.describe()"
   ]
  },
  {
   "cell_type": "code",
   "execution_count": 87,
   "id": "acd9e9ed-413f-4c76-a560-df866198a7bd",
   "metadata": {},
   "outputs": [
    {
     "data": {
      "text/html": [
       "<div>\n",
       "<style scoped>\n",
       "    .dataframe tbody tr th:only-of-type {\n",
       "        vertical-align: middle;\n",
       "    }\n",
       "\n",
       "    .dataframe tbody tr th {\n",
       "        vertical-align: top;\n",
       "    }\n",
       "\n",
       "    .dataframe thead th {\n",
       "        text-align: right;\n",
       "    }\n",
       "</style>\n",
       "<table border=\"1\" class=\"dataframe\">\n",
       "  <thead>\n",
       "    <tr style=\"text-align: right;\">\n",
       "      <th></th>\n",
       "      <th>Start</th>\n",
       "      <th>End</th>\n",
       "      <th>Length</th>\n",
       "    </tr>\n",
       "  </thead>\n",
       "  <tbody>\n",
       "    <tr>\n",
       "      <th>count</th>\n",
       "      <td>7.000000</td>\n",
       "      <td>7.00000</td>\n",
       "      <td>7.000000</td>\n",
       "    </tr>\n",
       "    <tr>\n",
       "      <th>mean</th>\n",
       "      <td>155.857143</td>\n",
       "      <td>199.00000</td>\n",
       "      <td>405.285714</td>\n",
       "    </tr>\n",
       "    <tr>\n",
       "      <th>std</th>\n",
       "      <td>356.665309</td>\n",
       "      <td>364.37069</td>\n",
       "      <td>316.777374</td>\n",
       "    </tr>\n",
       "    <tr>\n",
       "      <th>min</th>\n",
       "      <td>1.000000</td>\n",
       "      <td>20.00000</td>\n",
       "      <td>83.000000</td>\n",
       "    </tr>\n",
       "    <tr>\n",
       "      <th>25%</th>\n",
       "      <td>1.000000</td>\n",
       "      <td>47.00000</td>\n",
       "      <td>202.000000</td>\n",
       "    </tr>\n",
       "    <tr>\n",
       "      <th>50%</th>\n",
       "      <td>1.000000</td>\n",
       "      <td>83.00000</td>\n",
       "      <td>358.000000</td>\n",
       "    </tr>\n",
       "    <tr>\n",
       "      <th>75%</th>\n",
       "      <td>62.500000</td>\n",
       "      <td>86.50000</td>\n",
       "      <td>484.500000</td>\n",
       "    </tr>\n",
       "    <tr>\n",
       "      <th>max</th>\n",
       "      <td>962.000000</td>\n",
       "      <td>1023.00000</td>\n",
       "      <td>1023.000000</td>\n",
       "    </tr>\n",
       "  </tbody>\n",
       "</table>\n",
       "</div>"
      ],
      "text/plain": [
       "            Start         End       Length\n",
       "count    7.000000     7.00000     7.000000\n",
       "mean   155.857143   199.00000   405.285714\n",
       "std    356.665309   364.37069   316.777374\n",
       "min      1.000000    20.00000    83.000000\n",
       "25%      1.000000    47.00000   202.000000\n",
       "50%      1.000000    83.00000   358.000000\n",
       "75%     62.500000    86.50000   484.500000\n",
       "max    962.000000  1023.00000  1023.000000"
      ]
     },
     "execution_count": 87,
     "metadata": {},
     "output_type": "execute_result"
    }
   ],
   "source": [
    "import pandas as pd\n",
    "coli = pd.read_csv(\"DisProt_data_Escherichia-coli.csv\")\n",
    "coli.describe()"
   ]
  },
  {
   "cell_type": "code",
   "execution_count": 89,
   "id": "bac11f0c-d96d-44e4-86fc-5904c7145b23",
   "metadata": {},
   "outputs": [
    {
     "data": {
      "text/html": [
       "<div>\n",
       "<style scoped>\n",
       "    .dataframe tbody tr th:only-of-type {\n",
       "        vertical-align: middle;\n",
       "    }\n",
       "\n",
       "    .dataframe tbody tr th {\n",
       "        vertical-align: top;\n",
       "    }\n",
       "\n",
       "    .dataframe thead th {\n",
       "        text-align: right;\n",
       "    }\n",
       "</style>\n",
       "<table border=\"1\" class=\"dataframe\">\n",
       "  <thead>\n",
       "    <tr style=\"text-align: right;\">\n",
       "      <th></th>\n",
       "      <th>DisProt entry ID</th>\n",
       "      <th>UniProt ACC</th>\n",
       "      <th>Start</th>\n",
       "      <th>End</th>\n",
       "      <th>Reference</th>\n",
       "      <th>Length</th>\n",
       "    </tr>\n",
       "  </thead>\n",
       "  <tbody>\n",
       "    <tr>\n",
       "      <th>0</th>\n",
       "      <td>DP00342</td>\n",
       "      <td>P09883</td>\n",
       "      <td>1</td>\n",
       "      <td>83</td>\n",
       "      <td>pmid:12054823</td>\n",
       "      <td>582</td>\n",
       "    </tr>\n",
       "    <tr>\n",
       "      <th>1</th>\n",
       "      <td>DP00389</td>\n",
       "      <td>P09983</td>\n",
       "      <td>962</td>\n",
       "      <td>1023</td>\n",
       "      <td>pmid:7703231</td>\n",
       "      <td>1023</td>\n",
       "    </tr>\n",
       "    <tr>\n",
       "      <th>2</th>\n",
       "      <td>DP00461</td>\n",
       "      <td>P08083</td>\n",
       "      <td>67</td>\n",
       "      <td>90</td>\n",
       "      <td>pmid:9687368</td>\n",
       "      <td>387</td>\n",
       "    </tr>\n",
       "    <tr>\n",
       "      <th>3</th>\n",
       "      <td>DP00575</td>\n",
       "      <td>P77072</td>\n",
       "      <td>1</td>\n",
       "      <td>20</td>\n",
       "      <td>pmid:15222745</td>\n",
       "      <td>212</td>\n",
       "    </tr>\n",
       "    <tr>\n",
       "      <th>4</th>\n",
       "      <td>DP00656</td>\n",
       "      <td>P07674</td>\n",
       "      <td>1</td>\n",
       "      <td>64</td>\n",
       "      <td>pmid:20200158</td>\n",
       "      <td>358</td>\n",
       "    </tr>\n",
       "    <tr>\n",
       "      <th>5</th>\n",
       "      <td>DP00833</td>\n",
       "      <td>P22995</td>\n",
       "      <td>58</td>\n",
       "      <td>83</td>\n",
       "      <td>pmid:11743881</td>\n",
       "      <td>83</td>\n",
       "    </tr>\n",
       "    <tr>\n",
       "      <th>6</th>\n",
       "      <td>DP01201</td>\n",
       "      <td>Q47184</td>\n",
       "      <td>1</td>\n",
       "      <td>30</td>\n",
       "      <td>pmid:15943811</td>\n",
       "      <td>192</td>\n",
       "    </tr>\n",
       "  </tbody>\n",
       "</table>\n",
       "</div>"
      ],
      "text/plain": [
       "  DisProt entry ID UniProt ACC  Start   End      Reference  Length\n",
       "0          DP00342      P09883      1    83  pmid:12054823     582\n",
       "1          DP00389      P09983    962  1023   pmid:7703231    1023\n",
       "2          DP00461      P08083     67    90   pmid:9687368     387\n",
       "3          DP00575      P77072      1    20  pmid:15222745     212\n",
       "4          DP00656      P07674      1    64  pmid:20200158     358\n",
       "5          DP00833      P22995     58    83  pmid:11743881      83\n",
       "6          DP01201      Q47184      1    30  pmid:15943811     192"
      ]
     },
     "execution_count": 89,
     "metadata": {},
     "output_type": "execute_result"
    }
   ],
   "source": [
    "coli"
   ]
  },
  {
   "cell_type": "code",
   "execution_count": 90,
   "id": "a1fdd252-568a-4958-95b1-571473d547f8",
   "metadata": {},
   "outputs": [
    {
     "name": "stdout",
     "output_type": "stream",
     "text": [
      "Help on method head in module pandas.core.generic:\n",
      "\n",
      "head(n: 'int' = 5) -> 'FrameOrSeries' method of pandas.core.frame.DataFrame instance\n",
      "    Return the first `n` rows.\n",
      "    \n",
      "    This function returns the first `n` rows for the object based\n",
      "    on position. It is useful for quickly testing if your object\n",
      "    has the right type of data in it.\n",
      "    \n",
      "    For negative values of `n`, this function returns all rows except\n",
      "    the last `n` rows, equivalent to ``df[:-n]``.\n",
      "    \n",
      "    Parameters\n",
      "    ----------\n",
      "    n : int, default 5\n",
      "        Number of rows to select.\n",
      "    \n",
      "    Returns\n",
      "    -------\n",
      "    same type as caller\n",
      "        The first `n` rows of the caller object.\n",
      "    \n",
      "    See Also\n",
      "    --------\n",
      "    DataFrame.tail: Returns the last `n` rows.\n",
      "    \n",
      "    Examples\n",
      "    --------\n",
      "    >>> df = pd.DataFrame({'animal': ['alligator', 'bee', 'falcon', 'lion',\n",
      "    ...                    'monkey', 'parrot', 'shark', 'whale', 'zebra']})\n",
      "    >>> df\n",
      "          animal\n",
      "    0  alligator\n",
      "    1        bee\n",
      "    2     falcon\n",
      "    3       lion\n",
      "    4     monkey\n",
      "    5     parrot\n",
      "    6      shark\n",
      "    7      whale\n",
      "    8      zebra\n",
      "    \n",
      "    Viewing the first 5 lines\n",
      "    \n",
      "    >>> df.head()\n",
      "          animal\n",
      "    0  alligator\n",
      "    1        bee\n",
      "    2     falcon\n",
      "    3       lion\n",
      "    4     monkey\n",
      "    \n",
      "    Viewing the first `n` lines (three in this case)\n",
      "    \n",
      "    >>> df.head(3)\n",
      "          animal\n",
      "    0  alligator\n",
      "    1        bee\n",
      "    2     falcon\n",
      "    \n",
      "    For negative values of `n`\n",
      "    \n",
      "    >>> df.head(-3)\n",
      "          animal\n",
      "    0  alligator\n",
      "    1        bee\n",
      "    2     falcon\n",
      "    3       lion\n",
      "    4     monkey\n",
      "    5     parrot\n",
      "\n"
     ]
    }
   ],
   "source": [
    "help(coli.head)"
   ]
  },
  {
   "cell_type": "code",
   "execution_count": 92,
   "id": "70ed41d4-07ad-4ffa-83bc-7723b1377037",
   "metadata": {},
   "outputs": [
    {
     "name": "stdout",
     "output_type": "stream",
     "text": [
      "Help on method tail in module pandas.core.generic:\n",
      "\n",
      "tail(n: 'int' = 5) -> 'FrameOrSeries' method of pandas.core.frame.DataFrame instance\n",
      "    Return the last `n` rows.\n",
      "    \n",
      "    This function returns last `n` rows from the object based on\n",
      "    position. It is useful for quickly verifying data, for example,\n",
      "    after sorting or appending rows.\n",
      "    \n",
      "    For negative values of `n`, this function returns all rows except\n",
      "    the first `n` rows, equivalent to ``df[n:]``.\n",
      "    \n",
      "    Parameters\n",
      "    ----------\n",
      "    n : int, default 5\n",
      "        Number of rows to select.\n",
      "    \n",
      "    Returns\n",
      "    -------\n",
      "    type of caller\n",
      "        The last `n` rows of the caller object.\n",
      "    \n",
      "    See Also\n",
      "    --------\n",
      "    DataFrame.head : The first `n` rows of the caller object.\n",
      "    \n",
      "    Examples\n",
      "    --------\n",
      "    >>> df = pd.DataFrame({'animal': ['alligator', 'bee', 'falcon', 'lion',\n",
      "    ...                    'monkey', 'parrot', 'shark', 'whale', 'zebra']})\n",
      "    >>> df\n",
      "          animal\n",
      "    0  alligator\n",
      "    1        bee\n",
      "    2     falcon\n",
      "    3       lion\n",
      "    4     monkey\n",
      "    5     parrot\n",
      "    6      shark\n",
      "    7      whale\n",
      "    8      zebra\n",
      "    \n",
      "    Viewing the last 5 lines\n",
      "    \n",
      "    >>> df.tail()\n",
      "       animal\n",
      "    4  monkey\n",
      "    5  parrot\n",
      "    6   shark\n",
      "    7   whale\n",
      "    8   zebra\n",
      "    \n",
      "    Viewing the last `n` lines (three in this case)\n",
      "    \n",
      "    >>> df.tail(3)\n",
      "      animal\n",
      "    6  shark\n",
      "    7  whale\n",
      "    8  zebra\n",
      "    \n",
      "    For negative values of `n`\n",
      "    \n",
      "    >>> df.tail(-3)\n",
      "       animal\n",
      "    3    lion\n",
      "    4  monkey\n",
      "    5  parrot\n",
      "    6   shark\n",
      "    7   whale\n",
      "    8   zebra\n",
      "\n"
     ]
    }
   ],
   "source": [
    "help(coli.tail)"
   ]
  },
  {
   "cell_type": "code",
   "execution_count": 93,
   "id": "38d7c38e-1731-4568-831c-59d9f9086cc6",
   "metadata": {},
   "outputs": [
    {
     "data": {
      "text/html": [
       "<div>\n",
       "<style scoped>\n",
       "    .dataframe tbody tr th:only-of-type {\n",
       "        vertical-align: middle;\n",
       "    }\n",
       "\n",
       "    .dataframe tbody tr th {\n",
       "        vertical-align: top;\n",
       "    }\n",
       "\n",
       "    .dataframe thead th {\n",
       "        text-align: right;\n",
       "    }\n",
       "</style>\n",
       "<table border=\"1\" class=\"dataframe\">\n",
       "  <thead>\n",
       "    <tr style=\"text-align: right;\">\n",
       "      <th></th>\n",
       "      <th>DisProt entry ID</th>\n",
       "      <th>UniProt ACC</th>\n",
       "      <th>Start</th>\n",
       "      <th>End</th>\n",
       "      <th>Reference</th>\n",
       "      <th>Length</th>\n",
       "    </tr>\n",
       "  </thead>\n",
       "  <tbody>\n",
       "    <tr>\n",
       "      <th>0</th>\n",
       "      <td>DP00342</td>\n",
       "      <td>P09883</td>\n",
       "      <td>1</td>\n",
       "      <td>83</td>\n",
       "      <td>pmid:12054823</td>\n",
       "      <td>582</td>\n",
       "    </tr>\n",
       "    <tr>\n",
       "      <th>1</th>\n",
       "      <td>DP00389</td>\n",
       "      <td>P09983</td>\n",
       "      <td>962</td>\n",
       "      <td>1023</td>\n",
       "      <td>pmid:7703231</td>\n",
       "      <td>1023</td>\n",
       "    </tr>\n",
       "    <tr>\n",
       "      <th>2</th>\n",
       "      <td>DP00461</td>\n",
       "      <td>P08083</td>\n",
       "      <td>67</td>\n",
       "      <td>90</td>\n",
       "      <td>pmid:9687368</td>\n",
       "      <td>387</td>\n",
       "    </tr>\n",
       "  </tbody>\n",
       "</table>\n",
       "</div>"
      ],
      "text/plain": [
       "  DisProt entry ID UniProt ACC  Start   End      Reference  Length\n",
       "0          DP00342      P09883      1    83  pmid:12054823     582\n",
       "1          DP00389      P09983    962  1023   pmid:7703231    1023\n",
       "2          DP00461      P08083     67    90   pmid:9687368     387"
      ]
     },
     "execution_count": 93,
     "metadata": {},
     "output_type": "execute_result"
    }
   ],
   "source": [
    "coli.head(3)"
   ]
  },
  {
   "cell_type": "code",
   "execution_count": 94,
   "id": "1dc59928-f14c-4c57-80ce-4efa2de879b7",
   "metadata": {},
   "outputs": [
    {
     "data": {
      "text/html": [
       "<div>\n",
       "<style scoped>\n",
       "    .dataframe tbody tr th:only-of-type {\n",
       "        vertical-align: middle;\n",
       "    }\n",
       "\n",
       "    .dataframe tbody tr th {\n",
       "        vertical-align: top;\n",
       "    }\n",
       "\n",
       "    .dataframe thead th {\n",
       "        text-align: right;\n",
       "    }\n",
       "</style>\n",
       "<table border=\"1\" class=\"dataframe\">\n",
       "  <thead>\n",
       "    <tr style=\"text-align: right;\">\n",
       "      <th></th>\n",
       "      <th>DisProt entry ID</th>\n",
       "      <th>UniProt ACC</th>\n",
       "      <th>Start</th>\n",
       "      <th>End</th>\n",
       "      <th>Reference</th>\n",
       "      <th>Length</th>\n",
       "    </tr>\n",
       "  </thead>\n",
       "  <tbody>\n",
       "    <tr>\n",
       "      <th>4</th>\n",
       "      <td>DP00656</td>\n",
       "      <td>P07674</td>\n",
       "      <td>1</td>\n",
       "      <td>64</td>\n",
       "      <td>pmid:20200158</td>\n",
       "      <td>358</td>\n",
       "    </tr>\n",
       "    <tr>\n",
       "      <th>5</th>\n",
       "      <td>DP00833</td>\n",
       "      <td>P22995</td>\n",
       "      <td>58</td>\n",
       "      <td>83</td>\n",
       "      <td>pmid:11743881</td>\n",
       "      <td>83</td>\n",
       "    </tr>\n",
       "    <tr>\n",
       "      <th>6</th>\n",
       "      <td>DP01201</td>\n",
       "      <td>Q47184</td>\n",
       "      <td>1</td>\n",
       "      <td>30</td>\n",
       "      <td>pmid:15943811</td>\n",
       "      <td>192</td>\n",
       "    </tr>\n",
       "  </tbody>\n",
       "</table>\n",
       "</div>"
      ],
      "text/plain": [
       "  DisProt entry ID UniProt ACC  Start  End      Reference  Length\n",
       "4          DP00656      P07674      1   64  pmid:20200158     358\n",
       "5          DP00833      P22995     58   83  pmid:11743881      83\n",
       "6          DP01201      Q47184      1   30  pmid:15943811     192"
      ]
     },
     "execution_count": 94,
     "metadata": {},
     "output_type": "execute_result"
    }
   ],
   "source": [
    "coli.tail(3)"
   ]
  },
  {
   "cell_type": "code",
   "execution_count": 95,
   "id": "9cf0ceeb-1f04-42ac-81c7-4a72ff4cab5f",
   "metadata": {},
   "outputs": [
    {
     "data": {
      "text/html": [
       "<div>\n",
       "<style scoped>\n",
       "    .dataframe tbody tr th:only-of-type {\n",
       "        vertical-align: middle;\n",
       "    }\n",
       "\n",
       "    .dataframe tbody tr th {\n",
       "        vertical-align: top;\n",
       "    }\n",
       "\n",
       "    .dataframe thead th {\n",
       "        text-align: right;\n",
       "    }\n",
       "</style>\n",
       "<table border=\"1\" class=\"dataframe\">\n",
       "  <thead>\n",
       "    <tr style=\"text-align: right;\">\n",
       "      <th></th>\n",
       "      <th>DisProt entry ID</th>\n",
       "      <th>UniProt ACC</th>\n",
       "      <th>Start</th>\n",
       "      <th>End</th>\n",
       "      <th>Reference</th>\n",
       "      <th>Length</th>\n",
       "    </tr>\n",
       "  </thead>\n",
       "  <tbody>\n",
       "    <tr>\n",
       "      <th>0</th>\n",
       "      <td>DP00342</td>\n",
       "      <td>P09883</td>\n",
       "      <td>1</td>\n",
       "      <td>83</td>\n",
       "      <td>pmid:12054823</td>\n",
       "      <td>582</td>\n",
       "    </tr>\n",
       "    <tr>\n",
       "      <th>1</th>\n",
       "      <td>DP00389</td>\n",
       "      <td>P09983</td>\n",
       "      <td>962</td>\n",
       "      <td>1023</td>\n",
       "      <td>pmid:7703231</td>\n",
       "      <td>1023</td>\n",
       "    </tr>\n",
       "    <tr>\n",
       "      <th>2</th>\n",
       "      <td>DP00461</td>\n",
       "      <td>P08083</td>\n",
       "      <td>67</td>\n",
       "      <td>90</td>\n",
       "      <td>pmid:9687368</td>\n",
       "      <td>387</td>\n",
       "    </tr>\n",
       "    <tr>\n",
       "      <th>3</th>\n",
       "      <td>DP00575</td>\n",
       "      <td>P77072</td>\n",
       "      <td>1</td>\n",
       "      <td>20</td>\n",
       "      <td>pmid:15222745</td>\n",
       "      <td>212</td>\n",
       "    </tr>\n",
       "    <tr>\n",
       "      <th>4</th>\n",
       "      <td>DP00656</td>\n",
       "      <td>P07674</td>\n",
       "      <td>1</td>\n",
       "      <td>64</td>\n",
       "      <td>pmid:20200158</td>\n",
       "      <td>358</td>\n",
       "    </tr>\n",
       "    <tr>\n",
       "      <th>5</th>\n",
       "      <td>DP00833</td>\n",
       "      <td>P22995</td>\n",
       "      <td>58</td>\n",
       "      <td>83</td>\n",
       "      <td>pmid:11743881</td>\n",
       "      <td>83</td>\n",
       "    </tr>\n",
       "    <tr>\n",
       "      <th>6</th>\n",
       "      <td>DP01201</td>\n",
       "      <td>Q47184</td>\n",
       "      <td>1</td>\n",
       "      <td>30</td>\n",
       "      <td>pmid:15943811</td>\n",
       "      <td>192</td>\n",
       "    </tr>\n",
       "  </tbody>\n",
       "</table>\n",
       "</div>"
      ],
      "text/plain": [
       "  DisProt entry ID UniProt ACC  Start   End      Reference  Length\n",
       "0          DP00342      P09883      1    83  pmid:12054823     582\n",
       "1          DP00389      P09983    962  1023   pmid:7703231    1023\n",
       "2          DP00461      P08083     67    90   pmid:9687368     387\n",
       "3          DP00575      P77072      1    20  pmid:15222745     212\n",
       "4          DP00656      P07674      1    64  pmid:20200158     358\n",
       "5          DP00833      P22995     58    83  pmid:11743881      83\n",
       "6          DP01201      Q47184      1    30  pmid:15943811     192"
      ]
     },
     "execution_count": 95,
     "metadata": {},
     "output_type": "execute_result"
    }
   ],
   "source": [
    "coli"
   ]
  },
  {
   "cell_type": "code",
   "execution_count": 96,
   "id": "3b106c00-0e24-450a-a401-1a0e232c37e6",
   "metadata": {},
   "outputs": [
    {
     "data": {
      "text/html": [
       "<div>\n",
       "<style scoped>\n",
       "    .dataframe tbody tr th:only-of-type {\n",
       "        vertical-align: middle;\n",
       "    }\n",
       "\n",
       "    .dataframe tbody tr th {\n",
       "        vertical-align: top;\n",
       "    }\n",
       "\n",
       "    .dataframe thead th {\n",
       "        text-align: right;\n",
       "    }\n",
       "</style>\n",
       "<table border=\"1\" class=\"dataframe\">\n",
       "  <thead>\n",
       "    <tr style=\"text-align: right;\">\n",
       "      <th></th>\n",
       "      <th>DisProt entry ID</th>\n",
       "      <th>UniProt ACC</th>\n",
       "      <th>Start</th>\n",
       "      <th>End</th>\n",
       "      <th>Reference</th>\n",
       "      <th>Length</th>\n",
       "    </tr>\n",
       "  </thead>\n",
       "  <tbody>\n",
       "    <tr>\n",
       "      <th>2</th>\n",
       "      <td>DP00461</td>\n",
       "      <td>P08083</td>\n",
       "      <td>67</td>\n",
       "      <td>90</td>\n",
       "      <td>pmid:9687368</td>\n",
       "      <td>387</td>\n",
       "    </tr>\n",
       "    <tr>\n",
       "      <th>3</th>\n",
       "      <td>DP00575</td>\n",
       "      <td>P77072</td>\n",
       "      <td>1</td>\n",
       "      <td>20</td>\n",
       "      <td>pmid:15222745</td>\n",
       "      <td>212</td>\n",
       "    </tr>\n",
       "    <tr>\n",
       "      <th>4</th>\n",
       "      <td>DP00656</td>\n",
       "      <td>P07674</td>\n",
       "      <td>1</td>\n",
       "      <td>64</td>\n",
       "      <td>pmid:20200158</td>\n",
       "      <td>358</td>\n",
       "    </tr>\n",
       "    <tr>\n",
       "      <th>5</th>\n",
       "      <td>DP00833</td>\n",
       "      <td>P22995</td>\n",
       "      <td>58</td>\n",
       "      <td>83</td>\n",
       "      <td>pmid:11743881</td>\n",
       "      <td>83</td>\n",
       "    </tr>\n",
       "    <tr>\n",
       "      <th>6</th>\n",
       "      <td>DP01201</td>\n",
       "      <td>Q47184</td>\n",
       "      <td>1</td>\n",
       "      <td>30</td>\n",
       "      <td>pmid:15943811</td>\n",
       "      <td>192</td>\n",
       "    </tr>\n",
       "  </tbody>\n",
       "</table>\n",
       "</div>"
      ],
      "text/plain": [
       "  DisProt entry ID UniProt ACC  Start  End      Reference  Length\n",
       "2          DP00461      P08083     67   90   pmid:9687368     387\n",
       "3          DP00575      P77072      1   20  pmid:15222745     212\n",
       "4          DP00656      P07674      1   64  pmid:20200158     358\n",
       "5          DP00833      P22995     58   83  pmid:11743881      83\n",
       "6          DP01201      Q47184      1   30  pmid:15943811     192"
      ]
     },
     "execution_count": 96,
     "metadata": {},
     "output_type": "execute_result"
    }
   ],
   "source": [
    "coli.tail()"
   ]
  },
  {
   "cell_type": "code",
   "execution_count": 97,
   "id": "72831d28-74bb-4d90-a297-4b6ac866f592",
   "metadata": {},
   "outputs": [
    {
     "data": {
      "text/html": [
       "<div>\n",
       "<style scoped>\n",
       "    .dataframe tbody tr th:only-of-type {\n",
       "        vertical-align: middle;\n",
       "    }\n",
       "\n",
       "    .dataframe tbody tr th {\n",
       "        vertical-align: top;\n",
       "    }\n",
       "\n",
       "    .dataframe thead th {\n",
       "        text-align: right;\n",
       "    }\n",
       "</style>\n",
       "<table border=\"1\" class=\"dataframe\">\n",
       "  <thead>\n",
       "    <tr style=\"text-align: right;\">\n",
       "      <th></th>\n",
       "      <th>0</th>\n",
       "      <th>1</th>\n",
       "      <th>2</th>\n",
       "      <th>3</th>\n",
       "      <th>4</th>\n",
       "      <th>5</th>\n",
       "      <th>6</th>\n",
       "    </tr>\n",
       "  </thead>\n",
       "  <tbody>\n",
       "    <tr>\n",
       "      <th>DisProt entry ID</th>\n",
       "      <td>DP00342</td>\n",
       "      <td>DP00389</td>\n",
       "      <td>DP00461</td>\n",
       "      <td>DP00575</td>\n",
       "      <td>DP00656</td>\n",
       "      <td>DP00833</td>\n",
       "      <td>DP01201</td>\n",
       "    </tr>\n",
       "    <tr>\n",
       "      <th>UniProt ACC</th>\n",
       "      <td>P09883</td>\n",
       "      <td>P09983</td>\n",
       "      <td>P08083</td>\n",
       "      <td>P77072</td>\n",
       "      <td>P07674</td>\n",
       "      <td>P22995</td>\n",
       "      <td>Q47184</td>\n",
       "    </tr>\n",
       "    <tr>\n",
       "      <th>Start</th>\n",
       "      <td>1</td>\n",
       "      <td>962</td>\n",
       "      <td>67</td>\n",
       "      <td>1</td>\n",
       "      <td>1</td>\n",
       "      <td>58</td>\n",
       "      <td>1</td>\n",
       "    </tr>\n",
       "    <tr>\n",
       "      <th>End</th>\n",
       "      <td>83</td>\n",
       "      <td>1023</td>\n",
       "      <td>90</td>\n",
       "      <td>20</td>\n",
       "      <td>64</td>\n",
       "      <td>83</td>\n",
       "      <td>30</td>\n",
       "    </tr>\n",
       "    <tr>\n",
       "      <th>Reference</th>\n",
       "      <td>pmid:12054823</td>\n",
       "      <td>pmid:7703231</td>\n",
       "      <td>pmid:9687368</td>\n",
       "      <td>pmid:15222745</td>\n",
       "      <td>pmid:20200158</td>\n",
       "      <td>pmid:11743881</td>\n",
       "      <td>pmid:15943811</td>\n",
       "    </tr>\n",
       "    <tr>\n",
       "      <th>Length</th>\n",
       "      <td>582</td>\n",
       "      <td>1023</td>\n",
       "      <td>387</td>\n",
       "      <td>212</td>\n",
       "      <td>358</td>\n",
       "      <td>83</td>\n",
       "      <td>192</td>\n",
       "    </tr>\n",
       "  </tbody>\n",
       "</table>\n",
       "</div>"
      ],
      "text/plain": [
       "                              0             1             2              3  \\\n",
       "DisProt entry ID        DP00342       DP00389       DP00461        DP00575   \n",
       "UniProt ACC              P09883        P09983        P08083         P77072   \n",
       "Start                         1           962            67              1   \n",
       "End                          83          1023            90             20   \n",
       "Reference         pmid:12054823  pmid:7703231  pmid:9687368  pmid:15222745   \n",
       "Length                      582          1023           387            212   \n",
       "\n",
       "                              4              5              6  \n",
       "DisProt entry ID        DP00656        DP00833        DP01201  \n",
       "UniProt ACC              P07674         P22995         Q47184  \n",
       "Start                         1             58              1  \n",
       "End                          64             83             30  \n",
       "Reference         pmid:20200158  pmid:11743881  pmid:15943811  \n",
       "Length                      358             83            192  "
      ]
     },
     "execution_count": 97,
     "metadata": {},
     "output_type": "execute_result"
    }
   ],
   "source": [
    "coli.T"
   ]
  },
  {
   "cell_type": "code",
   "execution_count": 98,
   "id": "adb8d6f3-5ca9-4e36-a077-47d1a7974687",
   "metadata": {},
   "outputs": [
    {
     "data": {
      "text/html": [
       "<div>\n",
       "<style scoped>\n",
       "    .dataframe tbody tr th:only-of-type {\n",
       "        vertical-align: middle;\n",
       "    }\n",
       "\n",
       "    .dataframe tbody tr th {\n",
       "        vertical-align: top;\n",
       "    }\n",
       "\n",
       "    .dataframe thead th {\n",
       "        text-align: right;\n",
       "    }\n",
       "</style>\n",
       "<table border=\"1\" class=\"dataframe\">\n",
       "  <thead>\n",
       "    <tr style=\"text-align: right;\">\n",
       "      <th></th>\n",
       "      <th>0</th>\n",
       "      <th>1</th>\n",
       "      <th>2</th>\n",
       "      <th>3</th>\n",
       "      <th>4</th>\n",
       "      <th>5</th>\n",
       "      <th>6</th>\n",
       "    </tr>\n",
       "  </thead>\n",
       "  <tbody>\n",
       "    <tr>\n",
       "      <th>End</th>\n",
       "      <td>83</td>\n",
       "      <td>1023</td>\n",
       "      <td>90</td>\n",
       "      <td>20</td>\n",
       "      <td>64</td>\n",
       "      <td>83</td>\n",
       "      <td>30</td>\n",
       "    </tr>\n",
       "    <tr>\n",
       "      <th>Reference</th>\n",
       "      <td>pmid:12054823</td>\n",
       "      <td>pmid:7703231</td>\n",
       "      <td>pmid:9687368</td>\n",
       "      <td>pmid:15222745</td>\n",
       "      <td>pmid:20200158</td>\n",
       "      <td>pmid:11743881</td>\n",
       "      <td>pmid:15943811</td>\n",
       "    </tr>\n",
       "    <tr>\n",
       "      <th>Length</th>\n",
       "      <td>582</td>\n",
       "      <td>1023</td>\n",
       "      <td>387</td>\n",
       "      <td>212</td>\n",
       "      <td>358</td>\n",
       "      <td>83</td>\n",
       "      <td>192</td>\n",
       "    </tr>\n",
       "  </tbody>\n",
       "</table>\n",
       "</div>"
      ],
      "text/plain": [
       "                       0             1             2              3  \\\n",
       "End                   83          1023            90             20   \n",
       "Reference  pmid:12054823  pmid:7703231  pmid:9687368  pmid:15222745   \n",
       "Length               582          1023           387            212   \n",
       "\n",
       "                       4              5              6  \n",
       "End                   64             83             30  \n",
       "Reference  pmid:20200158  pmid:11743881  pmid:15943811  \n",
       "Length               358             83            192  "
      ]
     },
     "execution_count": 98,
     "metadata": {},
     "output_type": "execute_result"
    }
   ],
   "source": [
    "coli.T.tail(3)"
   ]
  },
  {
   "cell_type": "code",
   "execution_count": 1,
   "id": "426d8a0e-309a-4809-a50c-1094dc8df26c",
   "metadata": {},
   "outputs": [
    {
     "name": "stdout",
     "output_type": "stream",
     "text": [
      "\f",
      "\n"
     ]
    }
   ],
   "source": [
    "clear"
   ]
  },
  {
   "cell_type": "code",
   "execution_count": 3,
   "id": "5cc895fa-b395-4ea5-93c8-ba81b4af75c8",
   "metadata": {},
   "outputs": [
    {
     "data": {
      "text/html": [
       "<div>\n",
       "<style scoped>\n",
       "    .dataframe tbody tr th:only-of-type {\n",
       "        vertical-align: middle;\n",
       "    }\n",
       "\n",
       "    .dataframe tbody tr th {\n",
       "        vertical-align: top;\n",
       "    }\n",
       "\n",
       "    .dataframe thead th {\n",
       "        text-align: right;\n",
       "    }\n",
       "</style>\n",
       "<table border=\"1\" class=\"dataframe\">\n",
       "  <thead>\n",
       "    <tr style=\"text-align: right;\">\n",
       "      <th></th>\n",
       "      <th>DisProt entry ID</th>\n",
       "      <th>Start</th>\n",
       "      <th>End</th>\n",
       "      <th>Reference</th>\n",
       "      <th>Length</th>\n",
       "    </tr>\n",
       "    <tr>\n",
       "      <th>UniProt ACC</th>\n",
       "      <th></th>\n",
       "      <th></th>\n",
       "      <th></th>\n",
       "      <th></th>\n",
       "      <th></th>\n",
       "    </tr>\n",
       "  </thead>\n",
       "  <tbody>\n",
       "    <tr>\n",
       "      <th>Q22472</th>\n",
       "      <td>DP00613</td>\n",
       "      <td>1</td>\n",
       "      <td>378</td>\n",
       "      <td>pmid:19899809</td>\n",
       "      <td>378</td>\n",
       "    </tr>\n",
       "    <tr>\n",
       "      <th>Q9NHC3</th>\n",
       "      <td>DP00868</td>\n",
       "      <td>102</td>\n",
       "      <td>117</td>\n",
       "      <td>pmid:21616056</td>\n",
       "      <td>279</td>\n",
       "    </tr>\n",
       "    <tr>\n",
       "      <th>G4SLH0</th>\n",
       "      <td>DP01090</td>\n",
       "      <td>3546</td>\n",
       "      <td>3795</td>\n",
       "      <td>pmid:20346955</td>\n",
       "      <td>18562</td>\n",
       "    </tr>\n",
       "    <tr>\n",
       "      <th>D0PV95</th>\n",
       "      <td>DP01113</td>\n",
       "      <td>1</td>\n",
       "      <td>168</td>\n",
       "      <td>pmid:26015579</td>\n",
       "      <td>708</td>\n",
       "    </tr>\n",
       "    <tr>\n",
       "      <th>Q9N4U5</th>\n",
       "      <td>DP01313</td>\n",
       "      <td>163</td>\n",
       "      <td>223</td>\n",
       "      <td>pmid:27150041</td>\n",
       "      <td>547</td>\n",
       "    </tr>\n",
       "    <tr>\n",
       "      <th>O61667</th>\n",
       "      <td>DP01407</td>\n",
       "      <td>93</td>\n",
       "      <td>106</td>\n",
       "      <td>pmid:15383288</td>\n",
       "      <td>106</td>\n",
       "    </tr>\n",
       "    <tr>\n",
       "      <th>P54936</th>\n",
       "      <td>DP01436</td>\n",
       "      <td>423</td>\n",
       "      <td>487</td>\n",
       "      <td>pmid:12110687</td>\n",
       "      <td>961</td>\n",
       "    </tr>\n",
       "    <tr>\n",
       "      <th>P90976</th>\n",
       "      <td>DP01437</td>\n",
       "      <td>115</td>\n",
       "      <td>180</td>\n",
       "      <td>pmid:12110687</td>\n",
       "      <td>297</td>\n",
       "    </tr>\n",
       "    <tr>\n",
       "      <th>Q9XTY3</th>\n",
       "      <td>DP01558</td>\n",
       "      <td>17</td>\n",
       "      <td>211</td>\n",
       "      <td>pmid:22947085</td>\n",
       "      <td>211</td>\n",
       "    </tr>\n",
       "    <tr>\n",
       "      <th>Q09514</th>\n",
       "      <td>DP01973</td>\n",
       "      <td>1</td>\n",
       "      <td>18</td>\n",
       "      <td>pmid:26621324</td>\n",
       "      <td>266</td>\n",
       "    </tr>\n",
       "    <tr>\n",
       "      <th>P30429</th>\n",
       "      <td>DP02025</td>\n",
       "      <td>1</td>\n",
       "      <td>105</td>\n",
       "      <td>pmid:16208361</td>\n",
       "      <td>571</td>\n",
       "    </tr>\n",
       "    <tr>\n",
       "      <th>Q9U3S5</th>\n",
       "      <td>DP02216</td>\n",
       "      <td>1</td>\n",
       "      <td>100</td>\n",
       "      <td>pmid:30036386</td>\n",
       "      <td>1050</td>\n",
       "    </tr>\n",
       "    <tr>\n",
       "      <th>Q8IG33</th>\n",
       "      <td>DP02313</td>\n",
       "      <td>18</td>\n",
       "      <td>88</td>\n",
       "      <td>pmid:21397184</td>\n",
       "      <td>186</td>\n",
       "    </tr>\n",
       "  </tbody>\n",
       "</table>\n",
       "</div>"
      ],
      "text/plain": [
       "            DisProt entry ID  Start   End      Reference  Length\n",
       "UniProt ACC                                                     \n",
       "Q22472               DP00613      1   378  pmid:19899809     378\n",
       "Q9NHC3               DP00868    102   117  pmid:21616056     279\n",
       "G4SLH0               DP01090   3546  3795  pmid:20346955   18562\n",
       "D0PV95               DP01113      1   168  pmid:26015579     708\n",
       "Q9N4U5               DP01313    163   223  pmid:27150041     547\n",
       "O61667               DP01407     93   106  pmid:15383288     106\n",
       "P54936               DP01436    423   487  pmid:12110687     961\n",
       "P90976               DP01437    115   180  pmid:12110687     297\n",
       "Q9XTY3               DP01558     17   211  pmid:22947085     211\n",
       "Q09514               DP01973      1    18  pmid:26621324     266\n",
       "P30429               DP02025      1   105  pmid:16208361     571\n",
       "Q9U3S5               DP02216      1   100  pmid:30036386    1050\n",
       "Q8IG33               DP02313     18    88  pmid:21397184     186"
      ]
     },
     "execution_count": 3,
     "metadata": {},
     "output_type": "execute_result"
    }
   ],
   "source": [
    "import pandas as pd\n",
    "data = pd.read_csv(\"DisProt_data_Caenorhabditis-elegans.csv\", index_col = \"UniProt ACC\")\n",
    "data"
   ]
  },
  {
   "cell_type": "code",
   "execution_count": 4,
   "id": "c1769fbf-217f-49ff-9f55-1b895b61159c",
   "metadata": {},
   "outputs": [
    {
     "data": {
      "text/plain": [
       "'DP00613'"
      ]
     },
     "execution_count": 4,
     "metadata": {},
     "output_type": "execute_result"
    }
   ],
   "source": [
    "data.iloc[0, 0]"
   ]
  },
  {
   "cell_type": "code",
   "execution_count": 5,
   "id": "09529ec0-82f9-4248-95b6-5ee92f80aa94",
   "metadata": {},
   "outputs": [
    {
     "ename": "SyntaxError",
     "evalue": "invalid syntax (<ipython-input-5-7ef51f785525>, line 1)",
     "output_type": "error",
     "traceback": [
      "\u001b[1;36m  File \u001b[1;32m\"<ipython-input-5-7ef51f785525>\"\u001b[1;36m, line \u001b[1;32m1\u001b[0m\n\u001b[1;33m    data.iloc[ , 0]\u001b[0m\n\u001b[1;37m               ^\u001b[0m\n\u001b[1;31mSyntaxError\u001b[0m\u001b[1;31m:\u001b[0m invalid syntax\n"
     ]
    }
   ],
   "source": [
    "data.iloc[ , 0]"
   ]
  },
  {
   "cell_type": "code",
   "execution_count": 6,
   "id": "512fd10f-fa6a-41f9-8e79-a6184e85a84f",
   "metadata": {},
   "outputs": [
    {
     "ename": "SyntaxError",
     "evalue": "invalid syntax (<ipython-input-6-2e100510019b>, line 1)",
     "output_type": "error",
     "traceback": [
      "\u001b[1;36m  File \u001b[1;32m\"<ipython-input-6-2e100510019b>\"\u001b[1;36m, line \u001b[1;32m1\u001b[0m\n\u001b[1;33m    data.iloc[, 0]\u001b[0m\n\u001b[1;37m              ^\u001b[0m\n\u001b[1;31mSyntaxError\u001b[0m\u001b[1;31m:\u001b[0m invalid syntax\n"
     ]
    }
   ],
   "source": [
    "data.iloc[, 0]"
   ]
  },
  {
   "cell_type": "code",
   "execution_count": 7,
   "id": "de2e0089-3456-40cc-8371-3b2ba422ce11",
   "metadata": {},
   "outputs": [
    {
     "data": {
      "text/plain": [
       "1"
      ]
     },
     "execution_count": 7,
     "metadata": {},
     "output_type": "execute_result"
    }
   ],
   "source": [
    "data.loc[\"D0PV95\", \"Start\"]"
   ]
  },
  {
   "cell_type": "code",
   "execution_count": 8,
   "id": "8619a140-2392-4c54-8eab-eb263fa76d3d",
   "metadata": {},
   "outputs": [
    {
     "data": {
      "text/plain": [
       "DisProt entry ID          DP01113\n",
       "Start                           1\n",
       "End                           168\n",
       "Reference           pmid:26015579\n",
       "Length                        708\n",
       "Name: D0PV95, dtype: object"
      ]
     },
     "execution_count": 8,
     "metadata": {},
     "output_type": "execute_result"
    }
   ],
   "source": [
    "data.loc[\"D0PV95\", :]"
   ]
  },
  {
   "cell_type": "code",
   "execution_count": 9,
   "id": "87f5c422-fde6-42e0-8fdf-9a5ccc51e0a9",
   "metadata": {},
   "outputs": [
    {
     "data": {
      "text/plain": [
       "UniProt ACC\n",
       "Q22472      378\n",
       "Q9NHC3      279\n",
       "G4SLH0    18562\n",
       "D0PV95      708\n",
       "Q9N4U5      547\n",
       "O61667      106\n",
       "P54936      961\n",
       "P90976      297\n",
       "Q9XTY3      211\n",
       "Q09514      266\n",
       "P30429      571\n",
       "Q9U3S5     1050\n",
       "Q8IG33      186\n",
       "Name: Length, dtype: int64"
      ]
     },
     "execution_count": 9,
     "metadata": {},
     "output_type": "execute_result"
    }
   ],
   "source": [
    "data.loc[:, \"Length\"]"
   ]
  },
  {
   "cell_type": "code",
   "execution_count": 14,
   "id": "94ad70ed-d1c3-4360-9e80-87de06b1d587",
   "metadata": {},
   "outputs": [
    {
     "data": {
      "text/html": [
       "<div>\n",
       "<style scoped>\n",
       "    .dataframe tbody tr th:only-of-type {\n",
       "        vertical-align: middle;\n",
       "    }\n",
       "\n",
       "    .dataframe tbody tr th {\n",
       "        vertical-align: top;\n",
       "    }\n",
       "\n",
       "    .dataframe thead th {\n",
       "        text-align: right;\n",
       "    }\n",
       "</style>\n",
       "<table border=\"1\" class=\"dataframe\">\n",
       "  <thead>\n",
       "    <tr style=\"text-align: right;\">\n",
       "      <th></th>\n",
       "      <th>Start</th>\n",
       "      <th>End</th>\n",
       "    </tr>\n",
       "    <tr>\n",
       "      <th>UniProt ACC</th>\n",
       "      <th></th>\n",
       "      <th></th>\n",
       "    </tr>\n",
       "  </thead>\n",
       "  <tbody>\n",
       "    <tr>\n",
       "      <th>P30429</th>\n",
       "      <td>1</td>\n",
       "      <td>105</td>\n",
       "    </tr>\n",
       "    <tr>\n",
       "      <th>Q9U3S5</th>\n",
       "      <td>1</td>\n",
       "      <td>100</td>\n",
       "    </tr>\n",
       "    <tr>\n",
       "      <th>Q8IG33</th>\n",
       "      <td>18</td>\n",
       "      <td>88</td>\n",
       "    </tr>\n",
       "  </tbody>\n",
       "</table>\n",
       "</div>"
      ],
      "text/plain": [
       "             Start  End\n",
       "UniProt ACC            \n",
       "P30429           1  105\n",
       "Q9U3S5           1  100\n",
       "Q8IG33          18   88"
      ]
     },
     "execution_count": 14,
     "metadata": {},
     "output_type": "execute_result"
    }
   ],
   "source": [
    "data.tail(3).iloc[:, 1:3]"
   ]
  },
  {
   "cell_type": "code",
   "execution_count": 16,
   "id": "d3c74cb2-190f-453d-a682-905fdb5d750c",
   "metadata": {},
   "outputs": [
    {
     "data": {
      "text/html": [
       "<div>\n",
       "<style scoped>\n",
       "    .dataframe tbody tr th:only-of-type {\n",
       "        vertical-align: middle;\n",
       "    }\n",
       "\n",
       "    .dataframe tbody tr th {\n",
       "        vertical-align: top;\n",
       "    }\n",
       "\n",
       "    .dataframe thead th {\n",
       "        text-align: right;\n",
       "    }\n",
       "</style>\n",
       "<table border=\"1\" class=\"dataframe\">\n",
       "  <thead>\n",
       "    <tr style=\"text-align: right;\">\n",
       "      <th></th>\n",
       "      <th>Start</th>\n",
       "      <th>End</th>\n",
       "    </tr>\n",
       "    <tr>\n",
       "      <th>UniProt ACC</th>\n",
       "      <th></th>\n",
       "      <th></th>\n",
       "    </tr>\n",
       "  </thead>\n",
       "  <tbody>\n",
       "    <tr>\n",
       "      <th>P30429</th>\n",
       "      <td>1</td>\n",
       "      <td>105</td>\n",
       "    </tr>\n",
       "    <tr>\n",
       "      <th>Q9U3S5</th>\n",
       "      <td>1</td>\n",
       "      <td>100</td>\n",
       "    </tr>\n",
       "    <tr>\n",
       "      <th>Q8IG33</th>\n",
       "      <td>18</td>\n",
       "      <td>88</td>\n",
       "    </tr>\n",
       "  </tbody>\n",
       "</table>\n",
       "</div>"
      ],
      "text/plain": [
       "             Start  End\n",
       "UniProt ACC            \n",
       "P30429           1  105\n",
       "Q9U3S5           1  100\n",
       "Q8IG33          18   88"
      ]
     },
     "execution_count": 16,
     "metadata": {},
     "output_type": "execute_result"
    }
   ],
   "source": [
    "data.loc[\"P30429\":, \"Start\":\"End\"]"
   ]
  },
  {
   "cell_type": "code",
   "execution_count": 18,
   "id": "06417c0c-7896-4937-9d07-52d5f741a871",
   "metadata": {},
   "outputs": [
    {
     "data": {
      "text/html": [
       "<div>\n",
       "<style scoped>\n",
       "    .dataframe tbody tr th:only-of-type {\n",
       "        vertical-align: middle;\n",
       "    }\n",
       "\n",
       "    .dataframe tbody tr th {\n",
       "        vertical-align: top;\n",
       "    }\n",
       "\n",
       "    .dataframe thead th {\n",
       "        text-align: right;\n",
       "    }\n",
       "</style>\n",
       "<table border=\"1\" class=\"dataframe\">\n",
       "  <thead>\n",
       "    <tr style=\"text-align: right;\">\n",
       "      <th></th>\n",
       "      <th>Start</th>\n",
       "      <th>End</th>\n",
       "    </tr>\n",
       "    <tr>\n",
       "      <th>UniProt ACC</th>\n",
       "      <th></th>\n",
       "      <th></th>\n",
       "    </tr>\n",
       "  </thead>\n",
       "  <tbody>\n",
       "    <tr>\n",
       "      <th>P30429</th>\n",
       "      <td>1</td>\n",
       "      <td>105</td>\n",
       "    </tr>\n",
       "    <tr>\n",
       "      <th>Q9U3S5</th>\n",
       "      <td>1</td>\n",
       "      <td>100</td>\n",
       "    </tr>\n",
       "    <tr>\n",
       "      <th>Q8IG33</th>\n",
       "      <td>18</td>\n",
       "      <td>88</td>\n",
       "    </tr>\n",
       "  </tbody>\n",
       "</table>\n",
       "</div>"
      ],
      "text/plain": [
       "             Start  End\n",
       "UniProt ACC            \n",
       "P30429           1  105\n",
       "Q9U3S5           1  100\n",
       "Q8IG33          18   88"
      ]
     },
     "execution_count": 18,
     "metadata": {},
     "output_type": "execute_result"
    }
   ],
   "source": [
    "selection = data.loc[\"P30429\":, \"Start\":\"End\"]\n",
    "selection"
   ]
  },
  {
   "cell_type": "code",
   "execution_count": 19,
   "id": "67cb4ab0-6606-4c0a-a0d7-374d6ce4954a",
   "metadata": {},
   "outputs": [
    {
     "data": {
      "text/plain": [
       "Start     18\n",
       "End      105\n",
       "dtype: int64"
      ]
     },
     "execution_count": 19,
     "metadata": {},
     "output_type": "execute_result"
    }
   ],
   "source": [
    "selection.max()"
   ]
  },
  {
   "cell_type": "code",
   "execution_count": 20,
   "id": "9cc3cc11-3391-45a8-87fe-fc20be4def56",
   "metadata": {},
   "outputs": [
    {
     "data": {
      "text/plain": [
       "UniProt ACC\n",
       "P30429    105\n",
       "Q9U3S5    100\n",
       "Q8IG33     88\n",
       "dtype: int64"
      ]
     },
     "execution_count": 20,
     "metadata": {},
     "output_type": "execute_result"
    }
   ],
   "source": [
    "selection.T.max()"
   ]
  },
  {
   "cell_type": "code",
   "execution_count": 22,
   "id": "443df963-0e36-403d-a060-f9b711b85b00",
   "metadata": {},
   "outputs": [
    {
     "data": {
      "text/plain": [
       "1050"
      ]
     },
     "execution_count": 22,
     "metadata": {},
     "output_type": "execute_result"
    }
   ],
   "source": [
    "selection_length = data.loc[\"P30429\":, \"Length\"]\n",
    "selection_length.max()"
   ]
  },
  {
   "cell_type": "code",
   "execution_count": 23,
   "id": "b2395afd-ddef-4b07-a1f6-8d376a9e4ec5",
   "metadata": {},
   "outputs": [
    {
     "data": {
      "text/html": [
       "<div>\n",
       "<style scoped>\n",
       "    .dataframe tbody tr th:only-of-type {\n",
       "        vertical-align: middle;\n",
       "    }\n",
       "\n",
       "    .dataframe tbody tr th {\n",
       "        vertical-align: top;\n",
       "    }\n",
       "\n",
       "    .dataframe thead th {\n",
       "        text-align: right;\n",
       "    }\n",
       "</style>\n",
       "<table border=\"1\" class=\"dataframe\">\n",
       "  <thead>\n",
       "    <tr style=\"text-align: right;\">\n",
       "      <th></th>\n",
       "      <th>DisProt entry ID</th>\n",
       "      <th>Start</th>\n",
       "      <th>End</th>\n",
       "      <th>Reference</th>\n",
       "      <th>Length</th>\n",
       "    </tr>\n",
       "    <tr>\n",
       "      <th>UniProt ACC</th>\n",
       "      <th></th>\n",
       "      <th></th>\n",
       "      <th></th>\n",
       "      <th></th>\n",
       "      <th></th>\n",
       "    </tr>\n",
       "  </thead>\n",
       "  <tbody>\n",
       "    <tr>\n",
       "      <th>Q22472</th>\n",
       "      <td>DP00613</td>\n",
       "      <td>1</td>\n",
       "      <td>378</td>\n",
       "      <td>pmid:19899809</td>\n",
       "      <td>378</td>\n",
       "    </tr>\n",
       "    <tr>\n",
       "      <th>Q9NHC3</th>\n",
       "      <td>DP00868</td>\n",
       "      <td>102</td>\n",
       "      <td>117</td>\n",
       "      <td>pmid:21616056</td>\n",
       "      <td>279</td>\n",
       "    </tr>\n",
       "    <tr>\n",
       "      <th>G4SLH0</th>\n",
       "      <td>DP01090</td>\n",
       "      <td>3546</td>\n",
       "      <td>3795</td>\n",
       "      <td>pmid:20346955</td>\n",
       "      <td>18562</td>\n",
       "    </tr>\n",
       "    <tr>\n",
       "      <th>D0PV95</th>\n",
       "      <td>DP01113</td>\n",
       "      <td>1</td>\n",
       "      <td>168</td>\n",
       "      <td>pmid:26015579</td>\n",
       "      <td>708</td>\n",
       "    </tr>\n",
       "    <tr>\n",
       "      <th>Q9N4U5</th>\n",
       "      <td>DP01313</td>\n",
       "      <td>163</td>\n",
       "      <td>223</td>\n",
       "      <td>pmid:27150041</td>\n",
       "      <td>547</td>\n",
       "    </tr>\n",
       "    <tr>\n",
       "      <th>O61667</th>\n",
       "      <td>DP01407</td>\n",
       "      <td>93</td>\n",
       "      <td>106</td>\n",
       "      <td>pmid:15383288</td>\n",
       "      <td>106</td>\n",
       "    </tr>\n",
       "    <tr>\n",
       "      <th>P54936</th>\n",
       "      <td>DP01436</td>\n",
       "      <td>423</td>\n",
       "      <td>487</td>\n",
       "      <td>pmid:12110687</td>\n",
       "      <td>961</td>\n",
       "    </tr>\n",
       "    <tr>\n",
       "      <th>P90976</th>\n",
       "      <td>DP01437</td>\n",
       "      <td>115</td>\n",
       "      <td>180</td>\n",
       "      <td>pmid:12110687</td>\n",
       "      <td>297</td>\n",
       "    </tr>\n",
       "    <tr>\n",
       "      <th>Q9XTY3</th>\n",
       "      <td>DP01558</td>\n",
       "      <td>17</td>\n",
       "      <td>211</td>\n",
       "      <td>pmid:22947085</td>\n",
       "      <td>211</td>\n",
       "    </tr>\n",
       "    <tr>\n",
       "      <th>Q09514</th>\n",
       "      <td>DP01973</td>\n",
       "      <td>1</td>\n",
       "      <td>18</td>\n",
       "      <td>pmid:26621324</td>\n",
       "      <td>266</td>\n",
       "    </tr>\n",
       "    <tr>\n",
       "      <th>P30429</th>\n",
       "      <td>DP02025</td>\n",
       "      <td>1</td>\n",
       "      <td>105</td>\n",
       "      <td>pmid:16208361</td>\n",
       "      <td>571</td>\n",
       "    </tr>\n",
       "    <tr>\n",
       "      <th>Q9U3S5</th>\n",
       "      <td>DP02216</td>\n",
       "      <td>1</td>\n",
       "      <td>100</td>\n",
       "      <td>pmid:30036386</td>\n",
       "      <td>1050</td>\n",
       "    </tr>\n",
       "    <tr>\n",
       "      <th>Q8IG33</th>\n",
       "      <td>DP02313</td>\n",
       "      <td>18</td>\n",
       "      <td>88</td>\n",
       "      <td>pmid:21397184</td>\n",
       "      <td>186</td>\n",
       "    </tr>\n",
       "  </tbody>\n",
       "</table>\n",
       "</div>"
      ],
      "text/plain": [
       "            DisProt entry ID  Start   End      Reference  Length\n",
       "UniProt ACC                                                     \n",
       "Q22472               DP00613      1   378  pmid:19899809     378\n",
       "Q9NHC3               DP00868    102   117  pmid:21616056     279\n",
       "G4SLH0               DP01090   3546  3795  pmid:20346955   18562\n",
       "D0PV95               DP01113      1   168  pmid:26015579     708\n",
       "Q9N4U5               DP01313    163   223  pmid:27150041     547\n",
       "O61667               DP01407     93   106  pmid:15383288     106\n",
       "P54936               DP01436    423   487  pmid:12110687     961\n",
       "P90976               DP01437    115   180  pmid:12110687     297\n",
       "Q9XTY3               DP01558     17   211  pmid:22947085     211\n",
       "Q09514               DP01973      1    18  pmid:26621324     266\n",
       "P30429               DP02025      1   105  pmid:16208361     571\n",
       "Q9U3S5               DP02216      1   100  pmid:30036386    1050\n",
       "Q8IG33               DP02313     18    88  pmid:21397184     186"
      ]
     },
     "execution_count": 23,
     "metadata": {},
     "output_type": "execute_result"
    }
   ],
   "source": [
    "data"
   ]
  },
  {
   "cell_type": "code",
   "execution_count": 24,
   "id": "f90ef810-6d98-42fc-b449-aafbc27a4c0a",
   "metadata": {},
   "outputs": [
    {
     "data": {
      "text/plain": [
       "UniProt ACC\n",
       "P30429     True\n",
       "Q9U3S5     True\n",
       "Q8IG33    False\n",
       "Name: Length, dtype: bool"
      ]
     },
     "execution_count": 24,
     "metadata": {},
     "output_type": "execute_result"
    }
   ],
   "source": [
    "selection_length > 200"
   ]
  },
  {
   "cell_type": "code",
   "execution_count": 46,
   "id": "94f4b42e-ef95-472d-bccc-088b8ed1e7ff",
   "metadata": {},
   "outputs": [
    {
     "data": {
      "text/plain": [
       "UniProt ACC\n",
       "Q22472    False\n",
       "Q9NHC3    False\n",
       "G4SLH0     True\n",
       "D0PV95    False\n",
       "Q9N4U5    False\n",
       "O61667    False\n",
       "P54936    False\n",
       "P90976    False\n",
       "Q9XTY3    False\n",
       "Q09514    False\n",
       "P30429    False\n",
       "Q9U3S5    False\n",
       "Q8IG33    False\n",
       "Name: Length, dtype: bool"
      ]
     },
     "execution_count": 46,
     "metadata": {},
     "output_type": "execute_result"
    }
   ],
   "source": [
    "import statistics\n",
    "x = data.loc[:, \"Length\"]\n",
    "y = x.mean()\n",
    "check = data.loc[:, \"Length\"] > y\n",
    "check"
   ]
  },
  {
   "cell_type": "code",
   "execution_count": 48,
   "id": "dec6eec6-4a6a-4618-8340-b1ba30a40599",
   "metadata": {},
   "outputs": [
    {
     "data": {
      "text/plain": [
       "UniProt ACC\n",
       "Q22472    False\n",
       "Q9NHC3    False\n",
       "G4SLH0     True\n",
       "D0PV95    False\n",
       "Q9N4U5    False\n",
       "O61667    False\n",
       "P54936    False\n",
       "P90976    False\n",
       "Q9XTY3    False\n",
       "Q09514    False\n",
       "P30429    False\n",
       "Q9U3S5    False\n",
       "Q8IG33    False\n",
       "Name: Length, dtype: bool"
      ]
     },
     "execution_count": 48,
     "metadata": {},
     "output_type": "execute_result"
    }
   ],
   "source": [
    "mask_higher = data.loc[:, \"Length\"] > data.loc[:, \"Length\"].mean()\n",
    "mask_higher"
   ]
  },
  {
   "cell_type": "code",
   "execution_count": 53,
   "id": "c71a84f1-4dcc-4e98-9442-1d3fd105d95c",
   "metadata": {},
   "outputs": [
    {
     "ename": "TypeError",
     "evalue": "'method' object is not subscriptable",
     "output_type": "error",
     "traceback": [
      "\u001b[1;31m---------------------------------------------------------------------------\u001b[0m",
      "\u001b[1;31mTypeError\u001b[0m                                 Traceback (most recent call last)",
      "\u001b[1;32m<ipython-input-53-9a8970384410>\u001b[0m in \u001b[0;36m<module>\u001b[1;34m\u001b[0m\n\u001b[1;32m----> 1\u001b[1;33m \u001b[0mnew_data\u001b[0m \u001b[1;33m=\u001b[0m \u001b[0mdata\u001b[0m\u001b[1;33m.\u001b[0m\u001b[0mdrop\u001b[0m\u001b[1;33m[\u001b[0m\u001b[1;33m:\u001b[0m\u001b[1;33m,\u001b[0m \u001b[1;34m\"End\"\u001b[0m\u001b[1;33m]\u001b[0m\u001b[1;33m\u001b[0m\u001b[1;33m\u001b[0m\u001b[0m\n\u001b[0m\u001b[0;32m      2\u001b[0m \u001b[0mnew_data\u001b[0m\u001b[1;33m\u001b[0m\u001b[1;33m\u001b[0m\u001b[0m\n",
      "\u001b[1;31mTypeError\u001b[0m: 'method' object is not subscriptable"
     ]
    }
   ],
   "source": [
    "new_data = data.select[:, \"End\"]\n",
    "new_data"
   ]
  },
  {
   "cell_type": "code",
   "execution_count": 75,
   "id": "9643117d-dce0-4a58-93f2-4c96cc10cac1",
   "metadata": {},
   "outputs": [],
   "source": [
    "import pandas as pd\n",
    "data = pd.read_csv(\"DisProt_data_Caenorhabditis-elegans.csv\", index_col = \"DisProt entry ID\")\n",
    "start = data[\"Start\"]\n",
    "protein = data.loc[\"DP00613\", :]\n",
    "check = data.loc[:, \"Length\"] > 150\n",
    "uniprot = data.loc[data[\"Length\"] > 150, \"UniProt ACC\"]"
   ]
  },
  {
   "cell_type": "code",
   "execution_count": 76,
   "id": "1aba0fcb-ca5b-4041-aab9-0cf25aa2c434",
   "metadata": {},
   "outputs": [
    {
     "data": {
      "text/plain": [
       "DisProt entry ID\n",
       "DP00613    Q22472\n",
       "DP00868    Q9NHC3\n",
       "DP01090    G4SLH0\n",
       "DP01113    D0PV95\n",
       "DP01313    Q9N4U5\n",
       "DP01436    P54936\n",
       "DP01437    P90976\n",
       "DP01558    Q9XTY3\n",
       "DP01973    Q09514\n",
       "DP02025    P30429\n",
       "DP02216    Q9U3S5\n",
       "DP02313    Q8IG33\n",
       "Name: UniProt ACC, dtype: object"
      ]
     },
     "execution_count": 76,
     "metadata": {},
     "output_type": "execute_result"
    }
   ],
   "source": [
    "uniprot"
   ]
  },
  {
   "cell_type": "code",
   "execution_count": 84,
   "id": "8bbb934b-63ca-476b-b176-a84cc92ae45b",
   "metadata": {},
   "outputs": [
    {
     "data": {
      "text/plain": [
       "DisProt entry ID\n",
       "DP00613    Q22472\n",
       "DP00868    Q9NHC3\n",
       "DP01090    G4SLH0\n",
       "DP01113    D0PV95\n",
       "DP01313    Q9N4U5\n",
       "DP01436    P54936\n",
       "DP01437    P90976\n",
       "DP01558    Q9XTY3\n",
       "DP01973    Q09514\n",
       "DP02025    P30429\n",
       "DP02216    Q9U3S5\n",
       "DP02313    Q8IG33\n",
       "Name: UniProt ACC, dtype: object"
      ]
     },
     "execution_count": 84,
     "metadata": {},
     "output_type": "execute_result"
    }
   ],
   "source": [
    "uniprot = data.loc[data.Length > 150, \"UniProt ACC\"]\n",
    "uniprot"
   ]
  },
  {
   "cell_type": "code",
   "execution_count": 92,
   "id": "df2b53ff-0a94-4657-ac50-9bee8b08a604",
   "metadata": {},
   "outputs": [],
   "source": [
    "pressure = [0.27, 0.25, 0.278]"
   ]
  },
  {
   "cell_type": "code",
   "execution_count": 93,
   "id": "171fa0d0-78c4-402f-ac09-76fea4e2d1f8",
   "metadata": {},
   "outputs": [
    {
     "data": {
      "text/plain": [
       "0.27"
      ]
     },
     "execution_count": 93,
     "metadata": {},
     "output_type": "execute_result"
    }
   ],
   "source": [
    "pressure[0]"
   ]
  },
  {
   "cell_type": "code",
   "execution_count": 94,
   "id": "ce208f9b-b4e9-4192-be43-9a711f50242d",
   "metadata": {},
   "outputs": [
    {
     "data": {
      "text/plain": [
       "3"
      ]
     },
     "execution_count": 94,
     "metadata": {},
     "output_type": "execute_result"
    }
   ],
   "source": [
    "len(pressure)"
   ]
  },
  {
   "cell_type": "code",
   "execution_count": 96,
   "id": "8c8774eb-5061-4dae-82d0-aafde4535cb8",
   "metadata": {},
   "outputs": [],
   "source": [
    "del pressure[1]"
   ]
  },
  {
   "cell_type": "code",
   "execution_count": 97,
   "id": "e39a53c8-4c2a-4455-8922-c7edcc93dc97",
   "metadata": {},
   "outputs": [
    {
     "data": {
      "text/plain": [
       "[0.27, 0.278]"
      ]
     },
     "execution_count": 97,
     "metadata": {},
     "output_type": "execute_result"
    }
   ],
   "source": [
    "pressure"
   ]
  },
  {
   "cell_type": "code",
   "execution_count": 98,
   "id": "a46e075b-1396-4844-94aa-f2d1279e3750",
   "metadata": {},
   "outputs": [],
   "source": [
    "del pressure[0:2]"
   ]
  },
  {
   "cell_type": "code",
   "execution_count": 99,
   "id": "8a28c56d-c336-45b4-9cb2-d71bf7612e24",
   "metadata": {},
   "outputs": [
    {
     "data": {
      "text/plain": [
       "[]"
      ]
     },
     "execution_count": 99,
     "metadata": {},
     "output_type": "execute_result"
    }
   ],
   "source": [
    "pressure"
   ]
  },
  {
   "cell_type": "code",
   "execution_count": 102,
   "id": "4e0c57df-a32a-4025-8240-1358e137cafd",
   "metadata": {},
   "outputs": [
    {
     "name": "stdout",
     "output_type": "stream",
     "text": [
      "1\n",
      "2\n",
      "3\n",
      "4\n",
      "Hello\n"
     ]
    }
   ],
   "source": [
    "pressure = [1,2,3,4, \"Hello\"]\n",
    "for number in pressure:\n",
    "    print(number)"
   ]
  },
  {
   "cell_type": "code",
   "execution_count": 105,
   "id": "67228b25-198a-47e7-9ae0-5571640742df",
   "metadata": {},
   "outputs": [
    {
     "name": "stdout",
     "output_type": "stream",
     "text": [
      "0\n",
      "1\n",
      "2\n"
     ]
    }
   ],
   "source": [
    "for n in range(0, 3):\n",
    "    print(n)"
   ]
  },
  {
   "cell_type": "code",
   "execution_count": 110,
   "id": "a8f0ef7c-c7eb-4ef7-be27-90ec4ef2797e",
   "metadata": {},
   "outputs": [
    {
     "name": "stdout",
     "output_type": "stream",
     "text": [
      "50\n"
     ]
    }
   ],
   "source": [
    "total = 0\n",
    "for char in \"aiusheiuasheiuasfdiauehieauhdaiuehdaiuhdaieuhedaiu\":\n",
    "    total = total + 1\n",
    "print(total)"
   ]
  },
  {
   "cell_type": "code",
   "execution_count": 128,
   "id": "1b3af083-6f49-4077-b867-f9965defe2af",
   "metadata": {},
   "outputs": [
    {
     "data": {
      "text/plain": [
       "Text(0.5, 1.0, 'Very meaningful plot')"
      ]
     },
     "execution_count": 128,
     "metadata": {},
     "output_type": "execute_result"
    },
    {
     "data": {
      "image/png": "[encoded data removed]",
      "text/plain": [
       "<Figure size 432x288 with 1 Axes>"
      ]
     },
     "metadata": {
      "needs_background": "light"
     },
     "output_type": "display_data"
    }
   ],
   "source": [
    "import matplotlib.pyplot as plt\n",
    "res_pos = [0,1,2,3]\n",
    "dis_prediction = [0.31, 0.44, 0.8, 0.62]\n",
    "plt.bar(res_pos, dis_prediction)\n",
    "plt.xlabel('Residue position')\n",
    "plt.ylabel('Disorder prediction')\n",
    "plt.title('Very meaningful plot')"
   ]
  },
  {
   "cell_type": "code",
   "execution_count": 126,
   "id": "30ea1db1-09f6-464f-b97e-d047916a4bcb",
   "metadata": {},
   "outputs": [
    {
     "data": {
      "text/plain": [
       "<AxesSubplot:xlabel='UniProt ACC'>"
      ]
     },
     "execution_count": 126,
     "metadata": {},
     "output_type": "execute_result"
    },
    {
     "data": {
      "image/png": "[encoded data removed]",
      "text/plain": [
       "<Figure size 432x288 with 1 Axes>"
      ]
     },
     "metadata": {
      "needs_background": "light"
     },
     "output_type": "display_data"
    }
   ],
   "source": [
    "import pandas as pd\n",
    "data = pd.read_csv(\"DisProt_data_Caenorhabditis-elegans.csv\", index_col = \"UniProt ACC\")\n",
    "data[\"Length\"].plot.bar()"
   ]
  },
  {
   "cell_type": "code",
   "execution_count": 139,
   "id": "7b13b5ab-a1fa-491b-a23a-d422bdabc738",
   "metadata": {},
   "outputs": [
    {
     "data": {
      "text/plain": [
       "<AxesSubplot:>"
      ]
     },
     "execution_count": 139,
     "metadata": {},
     "output_type": "execute_result"
    },
    {
     "data": {
      "image/png": "[encoded data removed]",
      "text/plain": [
       "<Figure size 432x288 with 1 Axes>"
      ]
     },
     "metadata": {
      "needs_background": "light"
     },
     "output_type": "display_data"
    }
   ],
   "source": [
    "data2 = pd.read_csv(\"DisProt_and_pred_IDcontent.csv\", index_col = [0])\n",
    "data2[\"DisProt\"].head(20).plot.bar()"
   ]
  },
  {
   "cell_type": "code",
   "execution_count": 142,
   "id": "dedea620-e00c-4b36-9a89-a59928368e6e",
   "metadata": {},
   "outputs": [
    {
     "data": {
      "text/plain": [
       "Text(0, 0.5, 'Predictor')"
      ]
     },
     "execution_count": 142,
     "metadata": {},
     "output_type": "execute_result"
    },
    {
     "data": {
      "image/png": "[encoded data removed]",
      "text/plain": [
       "<Figure size 432x288 with 1 Axes>"
      ]
     },
     "metadata": {
      "needs_background": "light"
     },
     "output_type": "display_data"
    }
   ],
   "source": [
    "plt.scatter(data2['DisProt'], data2['Predictor'], c=\"red\")\n",
    "plt.xlabel('DisProt')\n",
    "plt.ylabel('Predictor')"
   ]
  },
  {
   "cell_type": "code",
   "execution_count": 143,
   "id": "8a991ccb-2070-4efe-96c6-595e8a786877",
   "metadata": {},
   "outputs": [
    {
     "data": {
      "text/plain": [
       "<AxesSubplot:>"
      ]
     },
     "execution_count": 143,
     "metadata": {},
     "output_type": "execute_result"
    },
    {
     "data": {
      "image/png": "[encoded data removed]",
      "text/plain": [
       "<Figure size 432x288 with 1 Axes>"
      ]
     },
     "metadata": {
      "needs_background": "light"
     },
     "output_type": "display_data"
    }
   ],
   "source": [
    "data2.boxplot()"
   ]
  },
  {
   "cell_type": "code",
   "execution_count": null,
   "id": "eeb36c20-2ba9-4c3e-bb71-d686b269f212",
   "metadata": {},
   "outputs": [],
   "source": []
  }
 ],
 "metadata": {
  "kernelspec": {
   "display_name": "Python 3",
   "language": "python",
   "name": "python3"
  },
  "language_info": {
   "codemirror_mode": {
    "name": "ipython",
    "version": 3
   },
   "file_extension": ".py",
   "mimetype": "text/x-python",
   "name": "python",
   "nbconvert_exporter": "python",
   "pygments_lexer": "ipython3",
   "version": "3.8.8"
  }
 },
 "nbformat": 4,
 "nbformat_minor": 5
}
